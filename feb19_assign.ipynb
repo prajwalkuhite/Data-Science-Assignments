{
 "cells": [
  {
   "cell_type": "markdown",
   "id": "7ec3ec58-29c9-460d-b19c-ae809939fefc",
   "metadata": {},
   "source": [
    "Q1"
   ]
  },
  {
   "cell_type": "markdown",
   "id": "ad87f51d-2d5d-4291-8711-b9d0422617df",
   "metadata": {},
   "source": [
    "Flask is a web framework that provides library to build lightweight web applications.\n",
    "It is developed by Armin Ronacher. Flask is based on WSGI toolkit and jinja2 template engine.\n",
    "This web application can be some web pages, blog or any commercial website.\n",
    "Flask is considered as micro framework.\n",
    "\n",
    "Advantages :\n",
    "1. Higher Fleexibility\n",
    "2. Higher compatibility with latest technologies\n",
    "3. High scalability for simple web application.\n",
    "4. Slightly higher framework performance\n",
    "5. Easier to use for simple cases.\n",
    "6. Smaller size of code base."
   ]
  },
  {
   "cell_type": "markdown",
   "id": "61b38b9a-f18c-4cff-a084-5172177af713",
   "metadata": {},
   "source": [
    "Q2"
   ]
  },
  {
   "cell_type": "markdown",
   "id": "75020652-1a53-40fe-8cca-a32a16b26f85",
   "metadata": {},
   "source": [
    "I creates this application\n",
    "https://purple-nurse-onuof.ineuron.app/files/work/1_feb19.png?_xsrf=2%7C0681fd7a%7C0dea499c83923f2c00285fe0cd32d0a6%7C1675504304"
   ]
  },
  {
   "cell_type": "markdown",
   "id": "7ff95069-46da-44a4-8a5b-492be537b31f",
   "metadata": {},
   "source": [
    "Output\n",
    "https://purple-nurse-onuof.ineuron.app/files/work/2_feb19.png?_xsrf=2%7C0681fd7a%7C0dea499c83923f2c00285fe0cd32d0a6%7C1675504304"
   ]
  },
  {
   "cell_type": "markdown",
   "id": "34bf9c0d-6d50-434c-a8ea-a8dedaf83cf7",
   "metadata": {},
   "source": [
    "Q3"
   ]
  },
  {
   "cell_type": "markdown",
   "id": "312b5573-2a4c-4178-8e2e-d0138f8697c8",
   "metadata": {},
   "source": [
    "In flask, the process of defining the URLs that map to a specific function or methods in your application is known as app routing.\n",
    "\n",
    "When a user visits the URL in our application, flask uses the routing route to determine which function or method should handle the request and return the response. Thus flask just route our request to that particular function.\n",
    "\n",
    "In flask, @app.route('/') decorator is used to define URL route."
   ]
  },
  {
   "cell_type": "markdown",
   "id": "994f432a-ef97-4f93-b2b7-113c04d647c3",
   "metadata": {},
   "source": [
    "Q4"
   ]
  },
  {
   "cell_type": "markdown",
   "id": "010970e2-d197-495e-a7e9-9248eb555d52",
   "metadata": {},
   "source": [
    "Output of \"/welcome\"\n",
    "https://purple-nurse-onuof.ineuron.app/files/work/3_feb19.png?_xsrf=2%7C0681fd7a%7C0dea499c83923f2c00285fe0cd32d0a6%7C1675504304"
   ]
  },
  {
   "cell_type": "markdown",
   "id": "ab10e8d2-ec02-4155-a227-26adf3821342",
   "metadata": {},
   "source": [
    "Output of \"/\"\n",
    "https://purple-nurse-onuof.ineuron.app/files/work/4_feb19.png?_xsrf=2%7C0681fd7a%7C0dea499c83923f2c00285fe0cd32d0a6%7C1675504304"
   ]
  },
  {
   "cell_type": "markdown",
   "id": "042fed6a-c034-4d44-9e75-8b36dff4a5e2",
   "metadata": {},
   "source": [
    "Q5"
   ]
  },
  {
   "cell_type": "markdown",
   "id": "3402b153-5e00-47ac-8937-098039ec1b34",
   "metadata": {},
   "source": [
    "url_for() function is used to build a URL Building. \n",
    "\n",
    "The first argument in the function is always the name of a\n",
    "specified function.\n",
    "\n",
    "This function is helpul in the sense that we can avoid hard coding the URLs into the template by dynamically building them using this function. "
   ]
  },
  {
   "cell_type": "markdown",
   "id": "31c5f14a-3df2-4428-8b20-06fe919b3b6f",
   "metadata": {},
   "source": [
    "I made this demonstration of url_for() function\n",
    "https://purple-nurse-onuof.ineuron.app/files/work/5_feb19.png?_xsrf=2%7C0681fd7a%7C0dea499c83923f2c00285fe0cd32d0a6%7C1675504304"
   ]
  },
  {
   "cell_type": "markdown",
   "id": "1e75df6e-fa3c-460c-be4e-786944b16b71",
   "metadata": {},
   "source": [
    "Here is the  output https://purple-nurse-onuof.ineuron.app/files/work/6_feb19.png?_xsrf=2%7C0681fd7a%7C0dea499c83923f2c00285fe0cd32d0a6%7C1675504304"
   ]
  },
  {
   "cell_type": "code",
   "execution_count": null,
   "id": "9576d17d-e4c3-43d5-be9b-4bfb775c65db",
   "metadata": {},
   "outputs": [],
   "source": []
  }
 ],
 "metadata": {
  "kernelspec": {
   "display_name": "Python 3 (ipykernel)",
   "language": "python",
   "name": "python3"
  },
  "language_info": {
   "codemirror_mode": {
    "name": "ipython",
    "version": 3
   },
   "file_extension": ".py",
   "mimetype": "text/x-python",
   "name": "python",
   "nbconvert_exporter": "python",
   "pygments_lexer": "ipython3",
   "version": "3.10.6"
  }
 },
 "nbformat": 4,
 "nbformat_minor": 5
}
