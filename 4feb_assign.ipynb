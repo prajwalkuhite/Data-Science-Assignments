{
 "cells": [
  {
   "cell_type": "markdown",
   "id": "30053520-d7a0-4dd3-a70e-276d2ca621de",
   "metadata": {},
   "source": [
    "Q1"
   ]
  },
  {
   "cell_type": "code",
   "execution_count": 109,
   "id": "66ba15b7-79e4-48ba-bc3d-67afbed8869e",
   "metadata": {},
   "outputs": [],
   "source": [
    "l1 = [(\"Sachin Tendulkar\",34357),(\"Ricky Ponting\",27483),(\"Jack Kallis\",25534),(\"Virat Kohli\",24936)]"
   ]
  },
  {
   "cell_type": "code",
   "execution_count": 112,
   "id": "bc6e4f02-f7f7-4dc2-ba1a-2f27dc7a023d",
   "metadata": {},
   "outputs": [],
   "source": [
    "a = lambda x : x.sort(key = lambda item:item[1])"
   ]
  },
  {
   "cell_type": "code",
   "execution_count": 113,
   "id": "18364b6b-38f4-46f6-bba6-10b5ede59f7b",
   "metadata": {},
   "outputs": [
    {
     "name": "stdout",
     "output_type": "stream",
     "text": [
      "[('Virat Kohli', 24936), ('Jack Kallis', 25534), ('Ricky Ponting', 27483), ('Sachin Tendulkar', 34357)]\n"
     ]
    }
   ],
   "source": [
    "a(l1)\n",
    "print(l1)"
   ]
  },
  {
   "cell_type": "markdown",
   "id": "19d554dd-5710-4bc0-83a8-c22e8fe82944",
   "metadata": {},
   "source": [
    "Q2"
   ]
  },
  {
   "cell_type": "code",
   "execution_count": 115,
   "id": "187fc201-9641-4154-9355-58c5b355ece3",
   "metadata": {},
   "outputs": [
    {
     "data": {
      "text/plain": [
       "[1, 4, 9, 16, 25, 36, 49, 64, 81, 100]"
      ]
     },
     "execution_count": 115,
     "metadata": {},
     "output_type": "execute_result"
    }
   ],
   "source": [
    "l2 = [1,2,3,4,5,6,7,8,9,10]\n",
    "list(map(lambda x : x**2,l2))"
   ]
  },
  {
   "cell_type": "markdown",
   "id": "70ebf8c0-9d1a-4592-9dc6-e5a3b63947ca",
   "metadata": {},
   "source": [
    "Q3"
   ]
  },
  {
   "cell_type": "code",
   "execution_count": 122,
   "id": "c25a53cd-5324-4eae-bcd1-a74372df480a",
   "metadata": {},
   "outputs": [
    {
     "data": {
      "text/plain": [
       "('1', '2', '3', '4', '5', '6', '7', '8', '9', '10')"
      ]
     },
     "execution_count": 122,
     "metadata": {},
     "output_type": "execute_result"
    }
   ],
   "source": [
    "l3 = [1,2,3,4,5,6,7,8,9,10]\n",
    "tuple(map(lambda x : str(x),l3))"
   ]
  },
  {
   "cell_type": "markdown",
   "id": "293a4757-67e4-4867-92e3-c6a8b0bf7fdd",
   "metadata": {},
   "source": [
    "Q4"
   ]
  },
  {
   "cell_type": "code",
   "execution_count": 127,
   "id": "4f3c6d93-f7dd-4fbc-8e84-ceb667f56df2",
   "metadata": {},
   "outputs": [
    {
     "data": {
      "text/plain": [
       "15511210043330985984000000"
      ]
     },
     "execution_count": 127,
     "metadata": {},
     "output_type": "execute_result"
    }
   ],
   "source": [
    "l4 = list(range(1,26))\n",
    "from functools import reduce\n",
    "reduce(lambda x,y : x*y , l4)"
   ]
  },
  {
   "cell_type": "markdown",
   "id": "dcb8c630-5549-4613-b25f-5a8703226966",
   "metadata": {},
   "source": [
    "Q5"
   ]
  },
  {
   "cell_type": "code",
   "execution_count": 129,
   "id": "057d7839-24c2-4e9d-aa73-b9daaab82a4a",
   "metadata": {},
   "outputs": [
    {
     "data": {
      "text/plain": [
       "[6, 60, 120]"
      ]
     },
     "execution_count": 129,
     "metadata": {},
     "output_type": "execute_result"
    }
   ],
   "source": [
    "l5 = [2,3,6,9,27,60,120,55,46]\n",
    "list(filter(lambda x : x%2==0 and x%3==0, l5))"
   ]
  },
  {
   "cell_type": "markdown",
   "id": "9491cdf7-a4fd-4042-83ef-26a2b4ca5d20",
   "metadata": {},
   "source": [
    "Q6"
   ]
  },
  {
   "cell_type": "code",
   "execution_count": 146,
   "id": "c3fc5b68-9f5b-4919-8a46-83e5c943959c",
   "metadata": {},
   "outputs": [
    {
     "data": {
      "text/plain": [
       "['php', 'aba', 'radar', 'level']"
      ]
     },
     "execution_count": 146,
     "metadata": {},
     "output_type": "execute_result"
    }
   ],
   "source": [
    "l6 = [\"python\",\"php\",\"aba\",\"radar\",\"level\"]\n",
    "list(filter(lambda x : x == x [::-1], l6))"
   ]
  },
  {
   "cell_type": "code",
   "execution_count": null,
   "id": "3d731b75-9144-4c95-b0e0-1574772606d9",
   "metadata": {},
   "outputs": [],
   "source": []
  }
 ],
 "metadata": {
  "kernelspec": {
   "display_name": "Python 3 (ipykernel)",
   "language": "python",
   "name": "python3"
  },
  "language_info": {
   "codemirror_mode": {
    "name": "ipython",
    "version": 3
   },
   "file_extension": ".py",
   "mimetype": "text/x-python",
   "name": "python",
   "nbconvert_exporter": "python",
   "pygments_lexer": "ipython3",
   "version": "3.10.6"
  }
 },
 "nbformat": 4,
 "nbformat_minor": 5
}
