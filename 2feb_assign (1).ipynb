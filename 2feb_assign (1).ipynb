{
 "cells": [
  {
   "cell_type": "markdown",
   "id": "d6111a7b-1088-4d62-8d3b-4edfaaeb325a",
   "metadata": {},
   "source": [
    "Q1"
   ]
  },
  {
   "cell_type": "markdown",
   "id": "62e085a4-8e6a-49d1-a1c1-51ac95081873",
   "metadata": {},
   "source": [
    "1  for loop is use when we know that how many times our loop will itearate\n",
    "\n",
    "2  while loop is used when we know don't know how many iteration happen,but we have place some condition to initialise while loop."
   ]
  },
  {
   "cell_type": "code",
   "execution_count": 2,
   "id": "c2374d99-2473-4219-bc8c-a606dd1b7aa2",
   "metadata": {},
   "outputs": [
    {
     "name": "stdout",
     "output_type": "stream",
     "text": [
      "1\n",
      "2\n",
      "3\n",
      "4\n",
      "5\n",
      "0 1 2 3 4 5 6 7 8 9 10 "
     ]
    }
   ],
   "source": [
    "for i in range(1,6):\n",
    "    print(i)\n",
    "    \n",
    "n = 0 \n",
    "while n <= 10:\n",
    "    print(n,end = ' ')\n",
    "    n = n+1"
   ]
  },
  {
   "cell_type": "markdown",
   "id": "70115ca2-7b39-454c-94f3-7cb96ed252d0",
   "metadata": {},
   "source": [
    "Q2"
   ]
  },
  {
   "cell_type": "code",
   "execution_count": 2,
   "id": "0a02e752-d454-4cdc-a80a-77d63bd409a5",
   "metadata": {},
   "outputs": [
    {
     "name": "stdout",
     "output_type": "stream",
     "text": [
      "1   2\n",
      "3   6\n",
      "6   24\n",
      "10   120\n",
      "15   720\n",
      "21   5040\n",
      "28   40320\n",
      "36   362880\n",
      "45   3628800\n",
      "55   39916800\n"
     ]
    }
   ],
   "source": [
    "num  = 10\n",
    "sum = 0\n",
    "product = 1\n",
    "for i in range(1,num+1):\n",
    "    sum = sum + i\n",
    "    product = product * (i+1)\n",
    "    print(sum,end=\"   \")\n",
    "    print(product)\n",
    "    "
   ]
  },
  {
   "cell_type": "code",
   "execution_count": 3,
   "id": "4e54a3be-a866-4ce4-bb70-1444781b4b0a",
   "metadata": {},
   "outputs": [
    {
     "name": "stdout",
     "output_type": "stream",
     "text": [
      "1   2\n",
      "3   6\n",
      "6   24\n",
      "10   120\n",
      "15   720\n",
      "21   5040\n",
      "28   40320\n",
      "36   362880\n",
      "45   3628800\n",
      "55   39916800\n"
     ]
    }
   ],
   "source": [
    "n = 10\n",
    "counter = 1\n",
    "sum = 0\n",
    "product = 1\n",
    "while counter <= n:\n",
    "    sum = counter  + sum\n",
    "    product = product * (counter + 1)\n",
    "    print(sum,end=\"   \")\n",
    "    print(product)\n",
    "    counter = counter + 1"
   ]
  },
  {
   "cell_type": "code",
   "execution_count": 22,
   "id": "0fff932b-4cf9-477b-9ec3-98ce2f7e603f",
   "metadata": {},
   "outputs": [
    {
     "name": "stdin",
     "output_type": "stream",
     "text": [
      "Enter the units 310\n"
     ]
    },
    {
     "name": "stdout",
     "output_type": "stream",
     "text": [
      "Your household bill is 6200\n"
     ]
    }
   ],
   "source": [
    "units = int(input(\"Enter the units\"))\n",
    "\n",
    "if units <=100:\n",
    "    print(\"Your household bill is\",units*4.5)\n",
    "elif units >= 101 and units <= 200:\n",
    "    print(\"Your household bill is\",units*6)\n",
    "elif units >=201 and units <=300:\n",
    "    print(\"Your household bill is\",units*10)\n",
    "else:\n",
    "    print(\"Your household bill is\",units*20)"
   ]
  },
  {
   "cell_type": "markdown",
   "id": "1af5ecc3-e916-409d-b9b0-21ea7a90d963",
   "metadata": {},
   "source": [
    "Q4"
   ]
  },
  {
   "cell_type": "code",
   "execution_count": 20,
   "id": "1fc4daa1-4d31-47da-a44d-6b10ab7527fd",
   "metadata": {},
   "outputs": [],
   "source": [
    "l =range(1,101)\n",
    "l1 =[]\n",
    "for i in l:\n",
    "    cube = i**3\n",
    "    if cube%4 ==0 or cube%5 == 0:\n",
    "        l1.append(i)"
   ]
  },
  {
   "cell_type": "code",
   "execution_count": 21,
   "id": "cc653c9a-bb10-4aec-ac7c-09725a881d5e",
   "metadata": {},
   "outputs": [
    {
     "name": "stdout",
     "output_type": "stream",
     "text": [
      "[2, 4, 5, 6, 8, 10, 12, 14, 15, 16, 18, 20, 22, 24, 25, 26, 28, 30, 32, 34, 35, 36, 38, 40, 42, 44, 45, 46, 48, 50, 52, 54, 55, 56, 58, 60, 62, 64, 65, 66, 68, 70, 72, 74, 75, 76, 78, 80, 82, 84, 85, 86, 88, 90, 92, 94, 95, 96, 98, 100] "
     ]
    }
   ],
   "source": [
    "print(l1,end=' ')"
   ]
  },
  {
   "cell_type": "markdown",
   "id": "5278c596-4c90-46bd-9e6c-90da57027694",
   "metadata": {},
   "source": [
    "Q5"
   ]
  },
  {
   "cell_type": "code",
   "execution_count": 25,
   "id": "1bb40f68-8de9-4568-a9db-5f81728e078d",
   "metadata": {},
   "outputs": [
    {
     "name": "stdout",
     "output_type": "stream",
     "text": [
      "No of vowels in string are 11\n"
     ]
    }
   ],
   "source": [
    "string = \"I want to become a data scientist\"\n",
    "vowels = 0\n",
    "for i in string:\n",
    "    if (i=='a'or i=='e'or i=='i'or i=='o' or i=='u'):\n",
    "        vowels +=1\n",
    "print(\"No of vowels in string are\",vowels)"
   ]
  },
  {
   "cell_type": "code",
   "execution_count": null,
   "id": "a987669e-30d5-4513-b23d-771fe219dd9c",
   "metadata": {},
   "outputs": [],
   "source": []
  }
 ],
 "metadata": {
  "kernelspec": {
   "display_name": "Python 3 (ipykernel)",
   "language": "python",
   "name": "python3"
  },
  "language_info": {
   "codemirror_mode": {
    "name": "ipython",
    "version": 3
   },
   "file_extension": ".py",
   "mimetype": "text/x-python",
   "name": "python",
   "nbconvert_exporter": "python",
   "pygments_lexer": "ipython3",
   "version": "3.10.6"
  }
 },
 "nbformat": 4,
 "nbformat_minor": 5
}
