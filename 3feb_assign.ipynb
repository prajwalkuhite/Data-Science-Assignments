{
 "cells": [
  {
   "cell_type": "markdown",
   "id": "71210643-6161-4b10-b5d2-091a4fe443a8",
   "metadata": {},
   "source": [
    "#Q1"
   ]
  },
  {
   "cell_type": "code",
   "execution_count": 114,
   "id": "4e47829f-1526-4b92-8e1f-e77c8e28b136",
   "metadata": {},
   "outputs": [],
   "source": [
    "# def function is used to create a function\n",
    "\n",
    "def func():\n",
    "    lst = []\n",
    "    for i in range(1,26):\n",
    "        if i %2 != 0:\n",
    "            lst.append(i)\n",
    "    return lst"
   ]
  },
  {
   "cell_type": "code",
   "execution_count": 113,
   "id": "2828d138-e38e-48d5-bb6d-c2093ee3aea6",
   "metadata": {},
   "outputs": [
    {
     "data": {
      "text/plain": [
       "[1, 3, 5, 7, 9, 11, 13, 15, 17, 19, 21, 23, 25]"
      ]
     },
     "execution_count": 113,
     "metadata": {},
     "output_type": "execute_result"
    }
   ],
   "source": [
    "func()\n"
   ]
  },
  {
   "cell_type": "markdown",
   "id": "8418e047-4eb5-42b3-bd81-61255c90b48e",
   "metadata": {},
   "source": [
    "Q2"
   ]
  },
  {
   "cell_type": "markdown",
   "id": "547a8ee8-6d83-4169-a313-2973d3c9ae2e",
   "metadata": {},
   "source": [
    "  *args are used inside function as a input, by using *args we can give 'n' no of arguments when we call the function.\n",
    "   also *args always return the output as a tuple.\n",
    "   here arguments are pass in the form of variable length.\n",
    "   \n",
    "   **kwargs are also used inside funtion as input, \n",
    "   by using **kwargs we  can give 'n' no of argumrnts but as a key = value form when calling the function.\n",
    "   **kwargs always return the output as a dictionary.\n"
   ]
  },
  {
   "cell_type": "code",
   "execution_count": 3,
   "id": "9dc8e6d3-e6df-47e3-a12f-a83acd58e646",
   "metadata": {},
   "outputs": [],
   "source": [
    "def func1(*args):\n",
    "    sum = 0\n",
    "    for i in args:\n",
    "        sum = sum + i\n",
    "    return sum"
   ]
  },
  {
   "cell_type": "code",
   "execution_count": 7,
   "id": "cc7739a1-c390-4ef5-ab0d-0f6fa7653d2d",
   "metadata": {},
   "outputs": [
    {
     "data": {
      "text/plain": [
       "24"
      ]
     },
     "execution_count": 7,
     "metadata": {},
     "output_type": "execute_result"
    }
   ],
   "source": [
    "func1(1,23)\n"
   ]
  },
  {
   "cell_type": "code",
   "execution_count": 2,
   "id": "a4b5ed35-1847-4daf-a29d-880bd6278b50",
   "metadata": {},
   "outputs": [],
   "source": [
    "def func2(**kwargs):\n",
    "    sum = 0\n",
    "    for key in kwargs:\n",
    "        sum = sum + kwargs[key]\n",
    "    return sum"
   ]
  },
  {
   "cell_type": "code",
   "execution_count": 3,
   "id": "c89b6f41-f4e1-4558-8540-433e03237a4a",
   "metadata": {},
   "outputs": [
    {
     "data": {
      "text/plain": [
       "57"
      ]
     },
     "execution_count": 3,
     "metadata": {},
     "output_type": "execute_result"
    }
   ],
   "source": [
    "func2(a = 23,b=34)"
   ]
  },
  {
   "cell_type": "markdown",
   "id": "b346bb9f-9bf9-4ac8-8929-046a99ae7539",
   "metadata": {},
   "source": [
    "Q3"
   ]
  },
  {
   "cell_type": "markdown",
   "id": "7c247736-ab7a-4b8f-9153-c061d224eb2a",
   "metadata": {},
   "source": [
    "iterator is an object which we used to iterate over iterable objects like string,list etc.\n",
    "iterator are basically used to store the data inside memory location but it will not initialise.\n",
    "iter() method is used to convert iterables into iterators.\n",
    "and next() method is used to initialise the data inside an object but one by one.\n",
    "or also we can use for loop using reference of that object to initialise data."
   ]
  },
  {
   "cell_type": "code",
   "execution_count": 4,
   "id": "7304ff12-9d95-40ba-80d6-7f37ff8d98d8",
   "metadata": {},
   "outputs": [],
   "source": [
    "lst = [2,4,6,8,12,14,16,18,20]"
   ]
  },
  {
   "cell_type": "code",
   "execution_count": 5,
   "id": "46bc28e4-f3b1-4114-b520-4bd7c10ee50f",
   "metadata": {},
   "outputs": [],
   "source": [
    "lst1  = iter(lst)"
   ]
  },
  {
   "cell_type": "code",
   "execution_count": 6,
   "id": "1b65fee5-8e54-4334-b291-fb034523e909",
   "metadata": {},
   "outputs": [
    {
     "data": {
      "text/plain": [
       "2"
      ]
     },
     "execution_count": 6,
     "metadata": {},
     "output_type": "execute_result"
    }
   ],
   "source": [
    "next(lst1)"
   ]
  },
  {
   "cell_type": "code",
   "execution_count": 7,
   "id": "181ad57f-4be0-4874-81e4-c06890f9d2d6",
   "metadata": {},
   "outputs": [
    {
     "data": {
      "text/plain": [
       "4"
      ]
     },
     "execution_count": 7,
     "metadata": {},
     "output_type": "execute_result"
    }
   ],
   "source": [
    "next(lst1)"
   ]
  },
  {
   "cell_type": "code",
   "execution_count": 8,
   "id": "d348a98b-18ae-487c-ab28-4877ab53483e",
   "metadata": {},
   "outputs": [
    {
     "data": {
      "text/plain": [
       "6"
      ]
     },
     "execution_count": 8,
     "metadata": {},
     "output_type": "execute_result"
    }
   ],
   "source": [
    "next(lst1)"
   ]
  },
  {
   "cell_type": "code",
   "execution_count": 9,
   "id": "1a7f7d0b-ec35-456f-9275-27583bc8bd70",
   "metadata": {},
   "outputs": [
    {
     "data": {
      "text/plain": [
       "8"
      ]
     },
     "execution_count": 9,
     "metadata": {},
     "output_type": "execute_result"
    }
   ],
   "source": [
    "next(lst1)"
   ]
  },
  {
   "cell_type": "code",
   "execution_count": 10,
   "id": "ad7e55d8-7d26-40ce-9f75-49dfed33f749",
   "metadata": {},
   "outputs": [
    {
     "data": {
      "text/plain": [
       "12"
      ]
     },
     "execution_count": 10,
     "metadata": {},
     "output_type": "execute_result"
    }
   ],
   "source": [
    "next(lst1)"
   ]
  },
  {
   "cell_type": "markdown",
   "id": "e2212467-d441-4ef2-9d17-a1188f776e79",
   "metadata": {},
   "source": [
    "Q4"
   ]
  },
  {
   "cell_type": "markdown",
   "id": "3be8a08e-16b9-4509-875a-9826aaf789c6",
   "metadata": {},
   "source": [
    "Generator is basically a function which is used to generate the function at some memory location.\n",
    "This can be achieved by using keyword 'yield'.\n",
    "yield keyword is used inside a function body to create the generator."
   ]
  },
  {
   "cell_type": "code",
   "execution_count": 11,
   "id": "e982529d-fe0a-4c4f-b308-29147c260fc0",
   "metadata": {},
   "outputs": [],
   "source": [
    "def func(n):\n",
    "    for i in range(n):\n",
    "        yield i*n"
   ]
  },
  {
   "cell_type": "code",
   "execution_count": 13,
   "id": "4f78059b-066d-435a-91f3-2635ccd297da",
   "metadata": {},
   "outputs": [
    {
     "name": "stdout",
     "output_type": "stream",
     "text": [
      "<generator object func at 0x7fb5b69d3c30>\n"
     ]
    }
   ],
   "source": [
    "a = func(4)\n",
    "print(a)"
   ]
  },
  {
   "cell_type": "code",
   "execution_count": 14,
   "id": "439110a8-b38c-4351-babb-92c91a9659d4",
   "metadata": {},
   "outputs": [
    {
     "data": {
      "text/plain": [
       "0"
      ]
     },
     "execution_count": 14,
     "metadata": {},
     "output_type": "execute_result"
    }
   ],
   "source": [
    "next(a)"
   ]
  },
  {
   "cell_type": "code",
   "execution_count": 15,
   "id": "20f28d5d-4efc-44a1-88c6-34760e291d7d",
   "metadata": {},
   "outputs": [
    {
     "data": {
      "text/plain": [
       "4"
      ]
     },
     "execution_count": 15,
     "metadata": {},
     "output_type": "execute_result"
    }
   ],
   "source": [
    "next(a)"
   ]
  },
  {
   "cell_type": "markdown",
   "id": "f8d6df75-a0d8-4d5d-b76e-f9347de70822",
   "metadata": {},
   "source": [
    "Q5"
   ]
  },
  {
   "cell_type": "code",
   "execution_count": 48,
   "id": "997b3979-acb8-41a9-82a1-6eaacae8eeb5",
   "metadata": {},
   "outputs": [],
   "source": [
    "def prime_num():\n",
    "    \n",
    "    print(\"Prime numbers in range 1 to 1000\")\n",
    "    for i in range(2,1000+1):\n",
    "        prime = 0\n",
    "        for j in range(2,i):\n",
    "            if i % j == 0:\n",
    "                prime = 1\n",
    "                break\n",
    "        if prime == 0:\n",
    "            yield i\n",
    "        "
   ]
  },
  {
   "cell_type": "code",
   "execution_count": 54,
   "id": "e1463826-f5d5-4b20-8be3-5c6be3ae1de5",
   "metadata": {},
   "outputs": [
    {
     "name": "stdout",
     "output_type": "stream",
     "text": [
      "<generator object prime_num at 0x7fb1205c0430>\n"
     ]
    }
   ],
   "source": [
    "a = prime_num()\n",
    "print(a)\n"
   ]
  },
  {
   "cell_type": "code",
   "execution_count": 55,
   "id": "948d72e3-d843-4749-ab8d-3c5db4c0aac9",
   "metadata": {},
   "outputs": [
    {
     "name": "stdout",
     "output_type": "stream",
     "text": [
      "Prime numbers in range 1 to 1000\n"
     ]
    },
    {
     "data": {
      "text/plain": [
       "2"
      ]
     },
     "execution_count": 55,
     "metadata": {},
     "output_type": "execute_result"
    }
   ],
   "source": [
    "next(a) "
   ]
  },
  {
   "cell_type": "code",
   "execution_count": 56,
   "id": "bc4bc42d-c586-45d9-90a6-497367b9e0ab",
   "metadata": {},
   "outputs": [
    {
     "data": {
      "text/plain": [
       "3"
      ]
     },
     "execution_count": 56,
     "metadata": {},
     "output_type": "execute_result"
    }
   ],
   "source": [
    "next(a)"
   ]
  },
  {
   "cell_type": "code",
   "execution_count": 57,
   "id": "16a7d961-2091-4b99-8c97-32288c0f76b2",
   "metadata": {},
   "outputs": [
    {
     "data": {
      "text/plain": [
       "5"
      ]
     },
     "execution_count": 57,
     "metadata": {},
     "output_type": "execute_result"
    }
   ],
   "source": [
    "next(a)"
   ]
  },
  {
   "cell_type": "code",
   "execution_count": 58,
   "id": "b2cf0694-d5be-4ebf-adc5-4372cf875cfa",
   "metadata": {},
   "outputs": [
    {
     "data": {
      "text/plain": [
       "7"
      ]
     },
     "execution_count": 58,
     "metadata": {},
     "output_type": "execute_result"
    }
   ],
   "source": [
    "next(a)"
   ]
  },
  {
   "cell_type": "code",
   "execution_count": 59,
   "id": "73635346-eb12-4c84-aa37-8913cd245b71",
   "metadata": {},
   "outputs": [
    {
     "data": {
      "text/plain": [
       "11"
      ]
     },
     "execution_count": 59,
     "metadata": {},
     "output_type": "execute_result"
    }
   ],
   "source": [
    "next(a)"
   ]
  },
  {
   "cell_type": "code",
   "execution_count": 60,
   "id": "5349023b-7a10-46e2-8a6e-9a133544d839",
   "metadata": {},
   "outputs": [
    {
     "data": {
      "text/plain": [
       "13"
      ]
     },
     "execution_count": 60,
     "metadata": {},
     "output_type": "execute_result"
    }
   ],
   "source": [
    "next(a)"
   ]
  },
  {
   "cell_type": "code",
   "execution_count": 61,
   "id": "620fea02-90b1-4cda-872f-26fb1b2b189d",
   "metadata": {},
   "outputs": [
    {
     "data": {
      "text/plain": [
       "17"
      ]
     },
     "execution_count": 61,
     "metadata": {},
     "output_type": "execute_result"
    }
   ],
   "source": [
    "next(a)"
   ]
  },
  {
   "cell_type": "code",
   "execution_count": 62,
   "id": "96a4252b-28c9-4a3d-8dc9-60e90bbfafc5",
   "metadata": {},
   "outputs": [
    {
     "data": {
      "text/plain": [
       "19"
      ]
     },
     "execution_count": 62,
     "metadata": {},
     "output_type": "execute_result"
    }
   ],
   "source": [
    "next(a)"
   ]
  },
  {
   "cell_type": "markdown",
   "id": "df5c883a-5535-4d57-9f22-ef6ac4a7baab",
   "metadata": {},
   "source": [
    "Q6"
   ]
  },
  {
   "cell_type": "code",
   "execution_count": 67,
   "id": "9d9c3513-e000-4c49-becc-d761f13803be",
   "metadata": {},
   "outputs": [],
   "source": [
    "def fibo(n):\n",
    "    a,b = 0,1\n",
    "    while n:\n",
    "        print(a)\n",
    "        c = a+b\n",
    "        a=b\n",
    "        b=c\n",
    "        n = n-1\n",
    "    "
   ]
  },
  {
   "cell_type": "code",
   "execution_count": 68,
   "id": "6f209a5c-a9d8-410d-86f4-588b888f75c6",
   "metadata": {},
   "outputs": [
    {
     "name": "stdout",
     "output_type": "stream",
     "text": [
      "0\n",
      "1\n",
      "1\n",
      "2\n",
      "3\n",
      "5\n",
      "8\n",
      "13\n",
      "21\n",
      "34\n"
     ]
    }
   ],
   "source": [
    "a = fibo(10)\n",
    "a"
   ]
  },
  {
   "cell_type": "markdown",
   "id": "9d929577-4118-4cdf-8f00-90ca42c9132d",
   "metadata": {},
   "source": [
    "Q7"
   ]
  },
  {
   "cell_type": "code",
   "execution_count": 70,
   "id": "dae80fe3-89bc-4e6f-a8d6-34e289c84f74",
   "metadata": {},
   "outputs": [
    {
     "data": {
      "text/plain": [
       "['p', 'w', 's', 'k', 'i', 'l', 'l', 's']"
      ]
     },
     "execution_count": 70,
     "metadata": {},
     "output_type": "execute_result"
    }
   ],
   "source": [
    "string  = \"pwskills\"\n",
    "\n",
    "[i for i in string ]"
   ]
  },
  {
   "cell_type": "markdown",
   "id": "5fa53a76-2175-4e81-beb0-fbe94f060c0d",
   "metadata": {},
   "source": [
    "Q8"
   ]
  },
  {
   "cell_type": "code",
   "execution_count": 72,
   "id": "570bbac8-1a1f-4918-ad08-9f3cd9d6a23c",
   "metadata": {},
   "outputs": [
    {
     "name": "stdin",
     "output_type": "stream",
     "text": [
      "Enter the number 626\n"
     ]
    },
    {
     "name": "stdout",
     "output_type": "stream",
     "text": [
      "palindrome number\n"
     ]
    }
   ],
   "source": [
    "n= int(input(\"Enter the number\"))\n",
    "rev = 0\n",
    "x = n\n",
    "while n>0:\n",
    "    rev = (rev*10) + n%10\n",
    "    n = n//10\n",
    "if (x==rev):\n",
    "    print(\"palindrome number\")\n",
    "else:\n",
    "    print(\"Not palindrome\")"
   ]
  },
  {
   "cell_type": "markdown",
   "id": "9d513b6a-9e3f-4b26-a379-8651c6feb24a",
   "metadata": {},
   "source": [
    "Q9"
   ]
  },
  {
   "cell_type": "code",
   "execution_count": 159,
   "id": "e35f5ac2-9617-4ebf-b7a8-671ba6a92662",
   "metadata": {},
   "outputs": [],
   "source": [
    "lst1 =[n for n in range(1,101)]"
   ]
  },
  {
   "cell_type": "code",
   "execution_count": 169,
   "id": "3933be15-ecb9-493a-9456-90a5ca8e3988",
   "metadata": {},
   "outputs": [
    {
     "name": "stdout",
     "output_type": "stream",
     "text": [
      "[1, 2, 3, 4, 5, 6, 7, 8, 9, 10, 11, 12, 13, 14, 15, 16, 17, 18, 19, 20, 21, 22, 23, 24, 25, 26, 27, 28, 29, 30, 31, 32, 33, 34, 35, 36, 37, 38, 39, 40, 41, 42, 43, 44, 45, 46, 47, 48, 49, 50, 51, 52, 53, 54, 55, 56, 57, 58, 59, 60, 61, 62, 63, 64, 65, 66, 67, 68, 69, 70, 71, 72, 73, 74, 75, 76, 77, 78, 79, 80, 81, 82, 83, 84, 85, 86, 87, 88, 89, 90, 91, 92, 93, 94, 95, 96, 97, 98, 99, 100]"
     ]
    }
   ],
   "source": [
    "print(lst1,end='')"
   ]
  },
  {
   "cell_type": "code",
   "execution_count": 170,
   "id": "eeffed71-b5f7-46dd-818d-f83b0f5bc504",
   "metadata": {},
   "outputs": [],
   "source": [
    "lst2=[i for i in lst1 if i%2==1]"
   ]
  },
  {
   "cell_type": "code",
   "execution_count": 171,
   "id": "725024d6-045f-4fdc-b409-878debb77083",
   "metadata": {},
   "outputs": [
    {
     "name": "stdout",
     "output_type": "stream",
     "text": [
      "[1, 3, 5, 7, 9, 11, 13, 15, 17, 19, 21, 23, 25, 27, 29, 31, 33, 35, 37, 39, 41, 43, 45, 47, 49, 51, 53, 55, 57, 59, 61, 63, 65, 67, 69, 71, 73, 75, 77, 79, 81, 83, 85, 87, 89, 91, 93, 95, 97, 99]"
     ]
    }
   ],
   "source": [
    "print(lst2,end='')"
   ]
  },
  {
   "cell_type": "code",
   "execution_count": null,
   "id": "fb92c8ff-4c58-4cea-8ee4-7b1d325cf4dd",
   "metadata": {},
   "outputs": [],
   "source": []
  }
 ],
 "metadata": {
  "kernelspec": {
   "display_name": "Python 3 (ipykernel)",
   "language": "python",
   "name": "python3"
  },
  "language_info": {
   "codemirror_mode": {
    "name": "ipython",
    "version": 3
   },
   "file_extension": ".py",
   "mimetype": "text/x-python",
   "name": "python",
   "nbconvert_exporter": "python",
   "pygments_lexer": "ipython3",
   "version": "3.10.6"
  }
 },
 "nbformat": 4,
 "nbformat_minor": 5
}
