{
 "cells": [
  {
   "cell_type": "markdown",
   "id": "4b6b0ba7-4ece-4402-ac07-85a9bbca0e65",
   "metadata": {},
   "source": [
    "Q1"
   ]
  },
  {
   "cell_type": "markdown",
   "id": "0654dda7-37a3-4acf-a4cb-5b0b4d5c71b8",
   "metadata": {},
   "source": [
    "Web scraping is an automatic method to obtain large amounts of data from websites. Most of this data is unstructured data in an HTML format which is then converted into structured data in a spreadsheet or a database so that it can be used in various applications. There are many different ways to perform web scraping to obtain data from websites. These include\n",
    "1. using online services,\n",
    "2. particular API’s\n",
    "3. or by creating our code for web scraping from scratch.\n",
    "\n",
    "Web Scraping has multiple uses:\n",
    "1. Price Monitoring\n",
    "Web Scraping can be used by companies to scrap the product data for their products and competing products as well to see how it impacts their pricing strategies. Companies can use this data to fix the optimal pricing for their products so that they can obtain maximum revenue.\n",
    "\n",
    "2. Market Research\n",
    "Web scraping can be used for market research by companies. High-quality web scraped data obtained in large volumes can be very helpful for companies in analyzing consumer trends and understanding which direction the company should move in the future. \n",
    "\n",
    "3. Email Marketing\n",
    "Companies can also use Web scraping for email marketing. They can collect Email ID’s from various sites using web scraping and then send bulk promotional and marketing Emails to all the people owning these Email ID’s."
   ]
  },
  {
   "cell_type": "markdown",
   "id": "03d5174e-dc14-4f44-93e1-68d9c162f2d0",
   "metadata": {},
   "source": [
    "Q2"
   ]
  },
  {
   "cell_type": "markdown",
   "id": "ad512ff8-b364-4d9c-8804-56eaf87d02e8",
   "metadata": {},
   "source": [
    "1. COPY-PASTING:\n",
    "This is a manual way for scraping here we do is copy and paste web content. This is time-consuming and repetitive and begs for a more effective means of web scraping.\n",
    "\n",
    "2. HTML PARSING:\n",
    "HTML parsing is done with JavaScript and targets linear or nested HTML pages. It is a fast and robust method that is used for text extraction, screen scraping, and resource extraction among others.\n",
    "\n",
    "3. DOM PARSING :\n",
    "DOM is Document Object Model and it defines the style structure and content of XML files. Scrapers make use of DOM parsers to get an in-depth view of a web page’s structure.\n",
    "\n",
    "4. GOOGLE SHEETS:\n",
    "Google sheets are a web scraping tool that is quite popular among web scrapers. From within sheets, a scraper can make use of IMPORT XML () function to scrape as much data as is needed from websites. "
   ]
  },
  {
   "cell_type": "markdown",
   "id": "1aef729a-45e7-4e2e-a265-102b3cc8c393",
   "metadata": {},
   "source": [
    "Q3"
   ]
  },
  {
   "cell_type": "markdown",
   "id": "659450ad-c3a2-4984-8e8d-e8ac9a1c2fa2",
   "metadata": {},
   "source": [
    "Beautifulsoup is a python package used for parsing HTML and XML documents it creates a parse tree for parsed pages which can be used for web scraping. It pulls data from HTML and XML files and works with our parser to provide the idiomatic way  of navigating, searching and modifying the parse tree."
   ]
  },
  {
   "cell_type": "markdown",
   "id": "9798f7f1-8320-46b1-9c38-8b5dcf7e7067",
   "metadata": {},
   "source": [
    "Q4"
   ]
  },
  {
   "cell_type": "markdown",
   "id": "747ca300-d561-489c-a02b-154217732f57",
   "metadata": {
    "tags": []
   },
   "source": [
    "Because flask is web framework which provides with tools, libraries, and technology that allow you to build a web application.\n",
    "\n",
    "Also flask is a micro-framework. Micro-framework are frameworks which are little dependecies to external libraries."
   ]
  },
  {
   "cell_type": "markdown",
   "id": "466ee1b5-eef7-4837-a34e-6a25f741b3cc",
   "metadata": {},
   "source": [
    "Q5"
   ]
  },
  {
   "cell_type": "markdown",
   "id": "0119edde-87d0-40e8-af51-2c52fdfda4ab",
   "metadata": {},
   "source": [
    "Codepipeline and Elastic Beanstalk used in this project.\n",
    "\n",
    "1. AWS Codepipeline is a continuous delivery service you can use to model, visualize, and automate the steps required to release your software. You can quickly model and configure the different stages of a software release process. Codepipeline automates the steps required to release your software changes continuously.\n",
    "\n",
    "2. Elastic Beanstalk is a service for deploying and scaling web applications and services. Here we have to upload our code and Elastic Beanstalk automatically handles the deployment—from capacity provisioning, load balancing, and auto scaling to application health monitoring."
   ]
  },
  {
   "cell_type": "code",
   "execution_count": null,
   "id": "2f7457fb-6367-4ea5-8fe5-4c082f4a1fa1",
   "metadata": {},
   "outputs": [],
   "source": []
  }
 ],
 "metadata": {
  "kernelspec": {
   "display_name": "Python 3 (ipykernel)",
   "language": "python",
   "name": "python3"
  },
  "language_info": {
   "codemirror_mode": {
    "name": "ipython",
    "version": 3
   },
   "file_extension": ".py",
   "mimetype": "text/x-python",
   "name": "python",
   "nbconvert_exporter": "python",
   "pygments_lexer": "ipython3",
   "version": "3.10.6"
  }
 },
 "nbformat": 4,
 "nbformat_minor": 5
}
