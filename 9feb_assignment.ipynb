{
 "cells": [
  {
   "cell_type": "markdown",
   "id": "4d27a09a-af55-4e8f-ae69-ef9ebda1e12b",
   "metadata": {},
   "source": [
    "Q1"
   ]
  },
  {
   "cell_type": "code",
   "execution_count": 2,
   "id": "75531c3a-27eb-4e7d-8393-e23f693d6c97",
   "metadata": {},
   "outputs": [],
   "source": [
    "class Vehicle:\n",
    "    \n",
    "    def __init__(self , name , speed , average):\n",
    "        self.name_of_vehicle = name\n",
    "        self.max_speed = speed\n",
    "        self.average_of_vehicle = average\n",
    "    \n",
    "    def Details_vehicle(self):\n",
    "        return (self.name_of_vehicle , self.max_speed , self.average_of_vehicle)"
   ]
  },
  {
   "cell_type": "code",
   "execution_count": 9,
   "id": "9f3291f6-10a3-4a72-8b59-fbe651a725c0",
   "metadata": {},
   "outputs": [],
   "source": [
    "v = Vehicle(\"Activa\",\"120KMPH\",\"50KM\")"
   ]
  },
  {
   "cell_type": "code",
   "execution_count": 10,
   "id": "3daf9d01-a65a-4e7d-aaed-7ff88daca725",
   "metadata": {},
   "outputs": [
    {
     "data": {
      "text/plain": [
       "('Activa', '120KMPH', '50KM')"
      ]
     },
     "execution_count": 10,
     "metadata": {},
     "output_type": "execute_result"
    }
   ],
   "source": [
    "v.Details_vehicle()"
   ]
  },
  {
   "cell_type": "markdown",
   "id": "43660c05-6d7b-4ce7-bc3f-bde67a292c06",
   "metadata": {},
   "source": [
    "Q2"
   ]
  },
  {
   "cell_type": "code",
   "execution_count": 89,
   "id": "a9f5b8ae-8609-48a8-90e3-d488f3a94fd5",
   "metadata": {},
   "outputs": [],
   "source": [
    "class Vehicle:\n",
    "    \n",
    "    def __init__(self , name , speed , average):\n",
    "        self.name_of_vehicle = name\n",
    "        self.max_speed = speed\n",
    "        self.average_of_vehicle = average\n",
    "    \n",
    "    def Details_vehicle(self):\n",
    "        return (self.name_of_vehicle , self.max_speed , self.average_of_vehicle)\n",
    "    \n",
    "class Car(Vehicle):\n",
    "    \n",
    "    def __init__(self, name , speed , average, capacity):\n",
    "        super().__init__( name , speed , average)\n",
    "        self.seating_capacity = capacity"
   ]
  },
  {
   "cell_type": "code",
   "execution_count": 90,
   "id": "b4f7a3b0-6df4-4884-80de-4e51ab5e5851",
   "metadata": {},
   "outputs": [],
   "source": [
    "c = Car(\"Swift desire\",\"270-KMPH\",\"26kmph\",4)"
   ]
  },
  {
   "cell_type": "code",
   "execution_count": 98,
   "id": "42925f7e-774c-4db9-8ad1-f2b445386445",
   "metadata": {},
   "outputs": [
    {
     "name": "stdout",
     "output_type": "stream",
     "text": [
      "Name of car is Swift desire\n",
      "Seating capacity is 4\n"
     ]
    }
   ],
   "source": [
    "print(\"Name of car is\",c.name_of_vehicle)\n",
    "print(\"Seating capacity is\",c.seating_capacity)"
   ]
  },
  {
   "cell_type": "markdown",
   "id": "b6a2b0b0-8293-47b7-9590-958ac63859be",
   "metadata": {},
   "source": [
    "Q3"
   ]
  },
  {
   "cell_type": "markdown",
   "id": "f3e1cc99-7b38-4120-97aa-900bb94740a8",
   "metadata": {},
   "source": [
    "Multiple inheritance is the inheritance in which child class is derived from multiple parent classes."
   ]
  },
  {
   "cell_type": "code",
   "execution_count": 72,
   "id": "9dcaa9bd-19e2-4a8b-aead-59538538d1de",
   "metadata": {},
   "outputs": [],
   "source": [
    "class Country:\n",
    "    office = 'New Delhi'\n",
    "\n",
    "class State:\n",
    "    office = 'Mumbai'\n",
    "    \n",
    "class District(Country,State):\n",
    "    office = \"Nagpur\"\n",
    "    "
   ]
  },
  {
   "cell_type": "code",
   "execution_count": 73,
   "id": "f2571ad2-72ae-44d9-9afa-f84ad97cf8e1",
   "metadata": {},
   "outputs": [],
   "source": [
    "d = District()"
   ]
  },
  {
   "cell_type": "code",
   "execution_count": 74,
   "id": "f9cc4427-77b8-4d8f-9d4a-8444939b6175",
   "metadata": {},
   "outputs": [
    {
     "data": {
      "text/plain": [
       "'Nagpur'"
      ]
     },
     "execution_count": 74,
     "metadata": {},
     "output_type": "execute_result"
    }
   ],
   "source": [
    "d.office"
   ]
  },
  {
   "cell_type": "markdown",
   "id": "bfb0d5c7-c81d-4aeb-b9c7-4294efa7fa54",
   "metadata": {},
   "source": [
    "Q4"
   ]
  },
  {
   "cell_type": "markdown",
   "id": "b3700eea-e515-4ca2-a845-76f82e9506a4",
   "metadata": {},
   "source": [
    "Setters are called \"Mutators\" this are used to set the variables or instances.\n",
    "Getters are called \"Accessors\" in this we will access the information which we set in setters."
   ]
  },
  {
   "cell_type": "code",
   "execution_count": 75,
   "id": "066778bf-42d5-4d72-b565-2dd4af1c5f22",
   "metadata": {},
   "outputs": [],
   "source": [
    "class Student:\n",
    "    #Setters\n",
    "    def SetDetails(self,a,b):\n",
    "        self.name = a\n",
    "        self.age = b\n",
    "    \n",
    "    #Getters\n",
    "    def GetDetails(self):\n",
    "        print(self.name,self.age)"
   ]
  },
  {
   "cell_type": "code",
   "execution_count": 77,
   "id": "50687240-60a1-4bfa-b6fd-f691e420cfd8",
   "metadata": {},
   "outputs": [],
   "source": [
    "s1 = Student()\n",
    "s2 = Student()"
   ]
  },
  {
   "cell_type": "code",
   "execution_count": 78,
   "id": "30831b7e-933b-462a-b762-a66906a88d0b",
   "metadata": {},
   "outputs": [],
   "source": [
    "s1.SetDetails(\"Prajwal\",22)\n",
    "s2.SetDetails(\"Saksham\",20)"
   ]
  },
  {
   "cell_type": "code",
   "execution_count": 79,
   "id": "c7b2ce93-8213-4020-aaca-314a8312e77b",
   "metadata": {},
   "outputs": [
    {
     "data": {
      "text/plain": [
       "'Prajwal'"
      ]
     },
     "execution_count": 79,
     "metadata": {},
     "output_type": "execute_result"
    }
   ],
   "source": [
    "s1.name"
   ]
  },
  {
   "cell_type": "code",
   "execution_count": 80,
   "id": "4f79071f-5428-4141-8550-a815e11de995",
   "metadata": {},
   "outputs": [
    {
     "data": {
      "text/plain": [
       "20"
      ]
     },
     "execution_count": 80,
     "metadata": {},
     "output_type": "execute_result"
    }
   ],
   "source": [
    "s2.age"
   ]
  },
  {
   "cell_type": "markdown",
   "id": "10ec9d85-6ebd-4639-b913-8b599d3fd08f",
   "metadata": {},
   "source": [
    "Q5"
   ]
  },
  {
   "cell_type": "markdown",
   "id": "c968a3ae-fb4f-4abf-a0ee-82cb77d9ec4e",
   "metadata": {},
   "source": [
    "Method Overiding is always there in inheritance.\n",
    "suppose if we define same methods in both child and parent class then after making child object and call then child object gives priority to its own method rather than parent class.\n",
    "\n",
    "That means Child class method override the Parent class method."
   ]
  },
  {
   "cell_type": "code",
   "execution_count": 82,
   "id": "6ea5238a-a98b-4b87-a48b-e0f0a970bc6a",
   "metadata": {},
   "outputs": [],
   "source": [
    "class Add:\n",
    "    def result(self,a,b):\n",
    "        print(\"Addition is \",a+b)\n",
    "        \n",
    "class Mul(Add):\n",
    "    def result(self,a,b):\n",
    "        print(\"Multiplication is \",a*b)"
   ]
  },
  {
   "cell_type": "code",
   "execution_count": 84,
   "id": "ca9e5be9-7aef-4d22-9d69-dc1e84c38a0c",
   "metadata": {},
   "outputs": [],
   "source": [
    "m = Mul()"
   ]
  },
  {
   "cell_type": "code",
   "execution_count": 85,
   "id": "8737ab23-88d6-4d9e-a2e5-aa33eaf29091",
   "metadata": {},
   "outputs": [
    {
     "name": "stdout",
     "output_type": "stream",
     "text": [
      "Multiplication is  20\n"
     ]
    }
   ],
   "source": [
    "m.result(4,5)"
   ]
  },
  {
   "cell_type": "markdown",
   "id": "72df66e5-5a90-4e3f-975f-36adbe10a2b8",
   "metadata": {},
   "source": [
    "Suppose if child class don't have method then only it goes to parent class method"
   ]
  },
  {
   "cell_type": "code",
   "execution_count": 86,
   "id": "dea831a2-b452-4d69-959f-960444bcf29f",
   "metadata": {},
   "outputs": [],
   "source": [
    "class Add:\n",
    "    def result(self,a,b):\n",
    "        print(\"Addition is \",a+b)\n",
    "        \n",
    "class Mul(Add):\n",
    "    pass"
   ]
  },
  {
   "cell_type": "code",
   "execution_count": 87,
   "id": "dccc4cd1-e7f0-4bc2-a59c-28fa5164ede1",
   "metadata": {},
   "outputs": [],
   "source": [
    "m = Mul()"
   ]
  },
  {
   "cell_type": "code",
   "execution_count": 88,
   "id": "8b099c4c-6abe-4ace-a62c-90550e2384e5",
   "metadata": {},
   "outputs": [
    {
     "name": "stdout",
     "output_type": "stream",
     "text": [
      "Addition is  9\n"
     ]
    }
   ],
   "source": [
    "m.result(4,5)"
   ]
  },
  {
   "cell_type": "code",
   "execution_count": null,
   "id": "b40eeb7a-0f06-41ad-ac25-7ed0c186dc85",
   "metadata": {},
   "outputs": [],
   "source": []
  },
  {
   "cell_type": "code",
   "execution_count": null,
   "id": "028a4af4-4e8b-41e0-89f0-65813991640b",
   "metadata": {},
   "outputs": [],
   "source": []
  }
 ],
 "metadata": {
  "kernelspec": {
   "display_name": "Python 3 (ipykernel)",
   "language": "python",
   "name": "python3"
  },
  "language_info": {
   "codemirror_mode": {
    "name": "ipython",
    "version": 3
   },
   "file_extension": ".py",
   "mimetype": "text/x-python",
   "name": "python",
   "nbconvert_exporter": "python",
   "pygments_lexer": "ipython3",
   "version": "3.10.6"
  }
 },
 "nbformat": 4,
 "nbformat_minor": 5
}
