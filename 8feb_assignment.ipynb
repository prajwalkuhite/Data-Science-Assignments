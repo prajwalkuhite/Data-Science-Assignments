{
 "cells": [
  {
   "cell_type": "markdown",
   "id": "32079351-a733-46d6-a5c9-f11c5c4ca928",
   "metadata": {},
   "source": [
    "Q1"
   ]
  },
  {
   "cell_type": "markdown",
   "id": "20d17e5c-d2f8-46ed-afb9-73f8f67988db",
   "metadata": {},
   "source": [
    "Abstraction is the process by which data and function are defined in such a way that only essential details can be seen and unnecessary implementation are hidden is called abstaraction or data abstraction.\n",
    "\n",
    "Hiding complex details or implementations and showing only signatures to user.\n",
    "\n",
    "Example-- ATM machine\n",
    "In ATM machine there are number of impementations of algorithms are done through coding but this is all the backend part and when user uses the machine it doesn't matter what was done inside it ,matters only the transactions.\n",
    "so the user can use the signatures which was shown for thiers useful needs."
   ]
  },
  {
   "cell_type": "markdown",
   "id": "5603bcac-5935-4d5e-a515-ab5da3f3385b",
   "metadata": {},
   "source": [
    "Q2"
   ]
  },
  {
   "cell_type": "markdown",
   "id": "245611dd-6864-4327-937b-598ac99fbb0e",
   "metadata": {},
   "source": [
    "Abstraction\n",
    "It deals with only relevant details and hiding the irrelevent details from the user.\n",
    "It refers to idea of hiding data which is not required for presentation purposes.\n",
    "It is implemented using abstract class and interface.\n",
    "Ex-- outer look of ATM machine like its display and keypad.\n",
    "\n",
    "Encapsulation\n",
    "It binds the data and information together into single entity to protect the data from external sources.\n",
    "It hides the data and code in order to restrict unwanted access.\n",
    "Information is hidden inside a capsule.\n",
    "Ex-- Inner implementation detail of a mobile phone how keypad button and display are connect witheach other.\n"
   ]
  },
  {
   "cell_type": "markdown",
   "id": "a95266f8-d1e8-4cac-bea8-0e53788fab48",
   "metadata": {},
   "source": [
    "Q3"
   ]
  },
  {
   "cell_type": "markdown",
   "id": "5fee23a8-dc95-41e2-997b-7202fbac1955",
   "metadata": {},
   "source": [
    "abc module in python provides the infrastructure for defining abstract classes.\n",
    "abc module is used to import ABC class.\n",
    "from ABC class we can make the abstract classes.\n",
    "ABC class is also known as Meta class which means a class derived from it can become a abstract class."
   ]
  },
  {
   "cell_type": "markdown",
   "id": "c74d1544-dbb4-4e14-93bc-383316023185",
   "metadata": {},
   "source": [
    "Q4"
   ]
  },
  {
   "cell_type": "markdown",
   "id": "c82535da-bbe2-4dc2-a77f-3db2dbd62c59",
   "metadata": {},
   "source": [
    "Data abstraction can be achieved as:\n",
    "1-- we have to import ABC class from abc module.\n",
    "2-- we then create a Parent class and inherits the ABC class in it then only it became a abstract class.\n",
    "3-- Then we have to define methods in it but there are two types of methods (a) abstarct method bys using decorator @abstractmethod but here we don't define the instances. the instances are defined in child class. and (b) concrete method which is basically a normal method whose instances can be defined in abstract class.\n",
    "4-- Then we have make a child class and inherits the parent class.\n",
    "5-- now we have to define the abstract method here.\n",
    "6-- now we have to make the objects of a child class and peforms the actions by using it."
   ]
  },
  {
   "cell_type": "markdown",
   "id": "6411c6ec-2d3a-4b64-871b-8baf3192822e",
   "metadata": {},
   "source": [
    "Q5"
   ]
  },
  {
   "cell_type": "markdown",
   "id": "1924c5f3-1429-4824-8086-86c7650673b5",
   "metadata": {},
   "source": [
    "No, we can't create the instance of an abstract class.\n",
    "because abstract class creates a the blueprint of a class and a the method implementation was done inside their subclasses.\n",
    "This subclasses has to be work according to abstract classes otherwise it throws an error\n"
   ]
  },
  {
   "cell_type": "code",
   "execution_count": null,
   "id": "e575347d-3a17-4ca2-90d0-2f170714db71",
   "metadata": {},
   "outputs": [],
   "source": []
  }
 ],
 "metadata": {
  "kernelspec": {
   "display_name": "Python 3 (ipykernel)",
   "language": "python",
   "name": "python3"
  },
  "language_info": {
   "codemirror_mode": {
    "name": "ipython",
    "version": 3
   },
   "file_extension": ".py",
   "mimetype": "text/x-python",
   "name": "python",
   "nbconvert_exporter": "python",
   "pygments_lexer": "ipython3",
   "version": "3.10.6"
  }
 },
 "nbformat": 4,
 "nbformat_minor": 5
}
