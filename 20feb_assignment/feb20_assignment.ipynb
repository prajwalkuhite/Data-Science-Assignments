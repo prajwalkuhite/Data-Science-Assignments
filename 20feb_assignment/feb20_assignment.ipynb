{
 "cells": [
  {
   "cell_type": "markdown",
   "id": "7849cd2e-bfcb-4a8f-97f6-2f2ec0b228be",
   "metadata": {},
   "source": [
    "Q1"
   ]
  },
  {
   "cell_type": "markdown",
   "id": "c69ca196-c12f-412b-bb48-15a3a23eab13",
   "metadata": {},
   "source": [
    "GET method:\n",
    "\n",
    "This method is used to retrieve data from the server. when we search anything on web browser noticed that there was a keyword shown on the URL that we searches. Here we request to server to give us data. This request or GET request is was goest through URL to the server.\n",
    "This request is used where data is not sensitive.\n",
    "\n",
    "POST method:\n",
    "\n",
    "This method makes enables users to send data over to the server . Example in Gmail login. Whenever we enter the information and submit over to the POST request then there is no information was shown in URL because POST request goes through body not URL to the server for processing it."
   ]
  },
  {
   "cell_type": "markdown",
   "id": "aaa25feb-5855-4547-8e53-b5ea11c1a5e3",
   "metadata": {},
   "source": [
    "Q2"
   ]
  },
  {
   "cell_type": "markdown",
   "id": "fb522ecc-0ff0-4d45-871d-c88f93b747f6",
   "metadata": {},
   "source": [
    "The Request is the object in flask that contains all the data sent from the client to the server.\n",
    "Python has module called requests that helps us deal with creating HTTP request and responses.\n",
    "Example-- GET request, POST request etc.\n",
    "\n",
    "The request module takes care of creating the request-response objects, establishing connection to server etc."
   ]
  },
  {
   "cell_type": "markdown",
   "id": "d6ab70a8-2f6a-4e83-b2fe-fec85ba73b99",
   "metadata": {},
   "source": [
    "Q3"
   ]
  },
  {
   "cell_type": "markdown",
   "id": "1766d17c-cf23-49b2-958d-d181d4692f52",
   "metadata": {},
   "source": [
    "Redirect() function which redirects the user to some specified URL with the specified status code.\n",
    "\n",
    "An HTTP status code is a response from the server to browser. when we visit a website a request is sent to the server and then server responds to the broser request with a 3 digit code: The staus code also represent error."
   ]
  },
  {
   "cell_type": "markdown",
   "id": "bc9a4b46-f45a-463e-bee1-c8f2cafd9ebd",
   "metadata": {},
   "source": [
    "Q4"
   ]
  },
  {
   "cell_type": "markdown",
   "id": "ecdbcd58-021a-4c77-bbe2-a73a6afdfd21",
   "metadata": {},
   "source": [
    "Templates are basically a folder made by UI developer in which HTML files are contains. This templates files are predefined which helps to build web application and display in web browser.\n",
    "\n",
    "for that we have to used render_template module and render_template() function. This function is used to render a file inside template and generayes the output from that file."
   ]
  },
  {
   "cell_type": "markdown",
   "id": "74e15b2a-261c-4dba-aca6-afecfa0ebe73",
   "metadata": {},
   "source": [
    "Q5"
   ]
  },
  {
   "cell_type": "code",
   "execution_count": 1,
   "id": "a1af17c8-adf5-4fc6-b4e2-0286965b11da",
   "metadata": {},
   "outputs": [
    {
     "name": "stdout",
     "output_type": "stream",
     "text": [
      "Collecting flask\n",
      "  Downloading Flask-2.2.3-py3-none-any.whl (101 kB)\n",
      "\u001b[2K     \u001b[90m━━━━━━━━━━━━━━━━━━━━━━━━━━━━━━━━━━━━━━\u001b[0m \u001b[32m101.8/101.8 kB\u001b[0m \u001b[31m10.0 MB/s\u001b[0m eta \u001b[36m0:00:00\u001b[0m\n",
      "\u001b[?25hRequirement already satisfied: Jinja2>=3.0 in /opt/conda/lib/python3.10/site-packages (from flask) (3.1.2)\n",
      "Collecting itsdangerous>=2.0\n",
      "  Downloading itsdangerous-2.1.2-py3-none-any.whl (15 kB)\n",
      "Requirement already satisfied: click>=8.0 in /opt/conda/lib/python3.10/site-packages (from flask) (8.1.3)\n",
      "Collecting Werkzeug>=2.2.2\n",
      "  Downloading Werkzeug-2.2.3-py3-none-any.whl (233 kB)\n",
      "\u001b[2K     \u001b[90m━━━━━━━━━━━━━━━━━━━━━━━━━━━━━━━━━━━━━━\u001b[0m \u001b[32m233.6/233.6 kB\u001b[0m \u001b[31m31.3 MB/s\u001b[0m eta \u001b[36m0:00:00\u001b[0m\n",
      "\u001b[?25hRequirement already satisfied: MarkupSafe>=2.0 in /opt/conda/lib/python3.10/site-packages (from Jinja2>=3.0->flask) (2.1.1)\n",
      "Installing collected packages: Werkzeug, itsdangerous, flask\n",
      "Successfully installed Werkzeug-2.2.3 flask-2.2.3 itsdangerous-2.1.2\n",
      "Note: you may need to restart the kernel to use updated packages.\n"
     ]
    }
   ],
   "source": [
    "pip install flask"
   ]
  },
  {
   "cell_type": "code",
   "execution_count": 3,
   "id": "c2a43664-e8eb-4741-b86e-6adade7ce02c",
   "metadata": {},
   "outputs": [],
   "source": [
    "from flask import Flask"
   ]
  },
  {
   "cell_type": "code",
   "execution_count": 4,
   "id": "f0310110-b6b0-412b-9dfa-5f5c03f892a0",
   "metadata": {},
   "outputs": [],
   "source": [
    "app = Flask(__name__)"
   ]
  },
  {
   "cell_type": "code",
   "execution_count": 5,
   "id": "3ca5481a-9125-49f4-b659-df2d02d53b04",
   "metadata": {},
   "outputs": [],
   "source": [
    "@app.route('/')\n",
    "def simple_func():\n",
    "    return \"Hello! my name is prajwal and i am from data science masters batch\""
   ]
  },
  {
   "cell_type": "code",
   "execution_count": null,
   "id": "820c75e6-ac10-4b3f-bff0-284011f26c52",
   "metadata": {},
   "outputs": [],
   "source": [
    "if __name__ == \"__main__\":\n",
    "    app.run(host = '0.0.0.0')"
   ]
  },
  {
   "cell_type": "markdown",
   "id": "6fbcc521-d61c-4a32-8342-dbfafec6ec95",
   "metadata": {},
   "source": [
    "output https://purple-nurse-onuof.ineuron.app/files/work/20feb_asgm_ss.png?_xsrf=2%7C0681fd7a%7C0dea499c83923f2c00285fe0cd32d0a6%7C1675504304"
   ]
  },
  {
   "cell_type": "code",
   "execution_count": null,
   "id": "1b84b465-a17e-4ed0-91ef-f2a4983996ba",
   "metadata": {},
   "outputs": [],
   "source": []
  }
 ],
 "metadata": {
  "kernelspec": {
   "display_name": "Python 3 (ipykernel)",
   "language": "python",
   "name": "python3"
  },
  "language_info": {
   "codemirror_mode": {
    "name": "ipython",
    "version": 3
   },
   "file_extension": ".py",
   "mimetype": "text/x-python",
   "name": "python",
   "nbconvert_exporter": "python",
   "pygments_lexer": "ipython3",
   "version": "3.10.6"
  }
 },
 "nbformat": 4,
 "nbformat_minor": 5
}
