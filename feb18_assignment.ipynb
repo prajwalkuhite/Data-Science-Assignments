{
 "cells": [
  {
   "cell_type": "markdown",
   "id": "65bf36c8-c4dd-41c5-97e0-492d7ecf5113",
   "metadata": {},
   "source": [
    "Q1"
   ]
  },
  {
   "cell_type": "markdown",
   "id": "8a16ad4d-16ae-4e6a-9d7a-d536df812e7a",
   "metadata": {},
   "source": [
    "API  (application programming interface) is a software that allows two application to talk to each others.  Api helps in enabling applications to exchange data and functions easily.  API is also called as middle man.It also helps in data monetisation and helps to improve collaboration.\n",
    "\n",
    "API use in Real life:\n",
    "\n",
    "1. In weather snippets -- In weather snippets APIs are generally used to access large set of databse to access information of weather forecast.\n",
    "\n",
    "2. Login -- APIs are widely used to login via google , github etc. which alloes users to access the log-in portal by using api interface.\n",
    "\n",
    "3. E-commerce website -- In this APIs provide functionality like if you can purchase somrething and now you want to pay so then api provides and interface like you can pay using debit card,credit card , UPI etc.\n"
   ]
  },
  {
   "cell_type": "markdown",
   "id": "5597db19-5932-4ed9-aefb-38846b0721f8",
   "metadata": {},
   "source": [
    "Q2"
   ]
  },
  {
   "cell_type": "markdown",
   "id": "3f332438-b0d1-4197-bb79-6812b73561f8",
   "metadata": {},
   "source": [
    "Advantages of APIs.:\n",
    "\n",
    "1. Efficiency : Api produces efficient, quicker, and more reliable results than the ouput presents by an human being in an organisation.\n",
    "2. Flexibility : API provides fast and flexible delivery services according to developrs requirements.\n",
    "3. Integration : The best  feature of API is that it allow the movement of the data between various sites and thus enhaces the integrated user experience.\n",
    "4. Automation : APIs makes use of robotics computer rather than humans, it produces better and more automated results.\n"
   ]
  },
  {
   "cell_type": "markdown",
   "id": "abc3d360-9984-420d-88cd-b6ceb8f33bc3",
   "metadata": {},
   "source": [
    "Disadvantages of APIs:\n",
    "\n",
    "1. Cost : Developing and implementing API is costly at times and requires high maintainence.\n",
    "2. Security issues : using API add another layer of surface which is prone to attacks and hence the security risk problem is common."
   ]
  },
  {
   "cell_type": "markdown",
   "id": "c406b1d5-d049-4335-819e-dd78d9e4eb10",
   "metadata": {},
   "source": [
    "Q3"
   ]
  },
  {
   "cell_type": "markdown",
   "id": "cd45ad31-c6a5-4254-a24c-93ee9edfbedb",
   "metadata": {},
   "source": [
    "Web APIs are commonly used for accessing databases and servers, as well as integrating third-party services and data into applications. web APIs provide a standardized way for different software systems to communicate and exchange data over the internet, allowing developers to create applications that can access and use functionality provided by other systems.\n",
    "\n",
    "\n",
    "Some common use cases for web APIs include accessing weather data, social media platforms, financial information, and location-based services, among many others. By using web APIs, developers can save time and resources by leveraging existing functionality and data, rather than building everything from scratch.\n",
    "\n",
    "\n",
    "Web API is just sub-category of API.\n",
    "1. APIs are application interface implying that one application can communicate with another appication in a standarized manner while web API are a type of a API which must me accesed through network connection.\n",
    "2. API is used for any style of communication while Web API used REST ,SOAP for communication. \n",
    "\n"
   ]
  },
  {
   "cell_type": "markdown",
   "id": "dd763afc-f77e-4a21-922e-56c620d67936",
   "metadata": {},
   "source": [
    "Q4"
   ]
  },
  {
   "cell_type": "markdown",
   "id": "302eaa6b-1702-4780-a1ec-ae052db47d92",
   "metadata": {},
   "source": [
    "REST \n",
    "\n",
    "REST stand for representational state transfer. It is a software architectural style that defines the set of rules to be used for creating web services. Web services which follow REST architectural style are known as Restful web services or API. REST APIs uses HTTP as communication protocol.\n",
    "Restful system consists of a 1. client who request for resource 2. server who has the resources.\n",
    "\n",
    "\n",
    "SOAP\n",
    "\n",
    "SOAP stands for simple object access protocol is a network platform used in web services to exchange or communicate the data between two different networks. SOAP uses XML as the intermediate language for exchanging data between application.\n",
    "SOAP was designed to work with XML over HTTP because is supported by all internet browsers ann services.\n",
    "\n",
    "Shortcomings in SOAP:\n",
    "1. SOAP is used only XML format data in web service wheras JSON and other lightweight fotmats are not supported by it.\n",
    "2. It is slow because it uses XML format.\n",
    "3. Implementation of SOAP is very difficult.\n",
    "\n",
    "\n"
   ]
  },
  {
   "cell_type": "markdown",
   "id": "9b7e67b3-8261-4c21-8efd-7be7ccf90eef",
   "metadata": {},
   "source": [
    "Q5"
   ]
  },
  {
   "cell_type": "markdown",
   "id": "d799e611-06be-4bfc-a79d-1f3de15b42db",
   "metadata": {},
   "source": [
    "Difference between SOAP and REST:\n",
    "\n",
    "SOAP:\n",
    "1. SOAP stand for simple object acces protocol.\n",
    "2. SOAP is a protocol, follows strict standard to allow communication between client and servers.\n",
    "3. SOAP only uses XML for exchanging information in its message format.\n",
    "4. SOAP is difficult to implement and it is heavyweight.\n",
    "5. On the basis of security SOAP is more secure than REST.\n",
    "6. SOAP cannot use REST since SOAP is a protocol without any architectural style.\n",
    "\n",
    "REST:\n",
    "1. REST stands for Reorentational state transfer.\n",
    "2. REST is a architectural style follow its own defined principles.\n",
    "3. REST uses XML ,JSON, etc, depend upon implementer.\n",
    "4. REST is lightweight and easy to use.\n",
    "5. REST is less secure than SOAP.\n",
    "6. REST can make use of SOAP because it is  an architectural pattern having proyocol."
   ]
  },
  {
   "cell_type": "code",
   "execution_count": null,
   "id": "56b8990b-1178-4414-bec3-f24d0ede57ed",
   "metadata": {},
   "outputs": [],
   "source": []
  }
 ],
 "metadata": {
  "kernelspec": {
   "display_name": "Python 3 (ipykernel)",
   "language": "python",
   "name": "python3"
  },
  "language_info": {
   "codemirror_mode": {
    "name": "ipython",
    "version": 3
   },
   "file_extension": ".py",
   "mimetype": "text/x-python",
   "name": "python",
   "nbconvert_exporter": "python",
   "pygments_lexer": "ipython3",
   "version": "3.10.6"
  }
 },
 "nbformat": 4,
 "nbformat_minor": 5
}
