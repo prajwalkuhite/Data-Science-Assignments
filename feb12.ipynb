{
 "cells": [
  {
   "cell_type": "markdown",
   "id": "0ae65fe5-384a-4512-be9f-4e102e189aca",
   "metadata": {},
   "source": [
    "Q1"
   ]
  },
  {
   "cell_type": "markdown",
   "id": "51f6ef2e-08c3-4fd7-8b76-fa6688a5a722",
   "metadata": {},
   "source": [
    "Exception is a inbuilt super class in a python. Exception is used to handle the error during execution of any program and that we called as exception handling.\n",
    "\n",
    "By using exception and some inbuilt keywords like 'try' and 'except' our program doesn't terminate it will continue its execution.\n",
    "\n",
    "There are two types of ERRORS:\n",
    "1..Syntax errors\n",
    "2..Exceptions\n",
    "\n",
    "1..Syntax Errors-- This error is caused by writing a invalid syntax. this lead to termination of our program.\n",
    "\n",
    "2..Exception -- By using Exception if errror found then it doen't terminate the program but continues to execution. here the error is getting not only about the syntax but also our value or arguments is passing wrongly.\n",
    "\n",
    "The differnce between this two error is that the if syntax error found it will terminate the program and Exception does not."
   ]
  },
  {
   "cell_type": "markdown",
   "id": "bdfc71e0-92b5-4356-b0cd-b13e2d70da8a",
   "metadata": {},
   "source": [
    "Q2"
   ]
  },
  {
   "cell_type": "markdown",
   "id": "2351c55c-6a8e-43bc-a357-a2cce954850b",
   "metadata": {},
   "source": [
    "if Exception not handled then our code will disrupts and throws an error"
   ]
  },
  {
   "cell_type": "code",
   "execution_count": 1,
   "id": "18cf7354-ff0e-41e5-b016-7c3ca2326b1c",
   "metadata": {},
   "outputs": [
    {
     "ename": "ZeroDivisionError",
     "evalue": "division by zero",
     "output_type": "error",
     "traceback": [
      "\u001b[0;31m---------------------------------------------------------------------------\u001b[0m",
      "\u001b[0;31mZeroDivisionError\u001b[0m                         Traceback (most recent call last)",
      "Cell \u001b[0;32mIn [1], line 2\u001b[0m\n\u001b[1;32m      1\u001b[0m \u001b[38;5;28;01mtry\u001b[39;00m:\n\u001b[0;32m----> 2\u001b[0m     a \u001b[38;5;241m=\u001b[39m \u001b[38;5;241;43m1\u001b[39;49m\u001b[38;5;241;43m/\u001b[39;49m\u001b[38;5;241;43m0\u001b[39;49m\n\u001b[1;32m      3\u001b[0m     \u001b[38;5;28mprint\u001b[39m(a)\n\u001b[1;32m      4\u001b[0m \u001b[38;5;28;01mexcept\u001b[39;00m \u001b[38;5;167;01mAttributeError\u001b[39;00m \u001b[38;5;28;01mas\u001b[39;00m e:\n",
      "\u001b[0;31mZeroDivisionError\u001b[0m: division by zero"
     ]
    }
   ],
   "source": [
    "try:\n",
    "    a = 1/0\n",
    "    print(a)\n",
    "except AttributeError as e:\n",
    "    print(e)"
   ]
  },
  {
   "cell_type": "markdown",
   "id": "245c68ff-7bd6-46da-a328-c3d4bc276b2f",
   "metadata": {},
   "source": [
    "Q3"
   ]
  },
  {
   "cell_type": "markdown",
   "id": "fbde6e69-13e3-4467-af17-105bf6133f94",
   "metadata": {},
   "source": [
    "' try ' and ' except ' are used to catch and handle exceptions respectively."
   ]
  },
  {
   "cell_type": "code",
   "execution_count": 6,
   "id": "fc003e07-5846-47e1-8011-3081ac14d2f8",
   "metadata": {},
   "outputs": [
    {
     "name": "stdout",
     "output_type": "stream",
     "text": [
      "division by zero\n"
     ]
    }
   ],
   "source": [
    "try:\n",
    "    a = 1/0\n",
    "    a\n",
    "except Exception as e:\n",
    "    print(e)"
   ]
  },
  {
   "cell_type": "markdown",
   "id": "33b0ce09-4cb1-484b-92f2-73d9a8a0e1db",
   "metadata": {},
   "source": [
    "In above program try statement is used to catch the code, if the code is correct then it will execute successfuly but in above case code is syntax wise correct but not the value type so the try statement will try to execute the program but because of value type it pass this to except statement there this error will handled successfully."
   ]
  },
  {
   "cell_type": "markdown",
   "id": "bac2705f-92d2-458d-b949-1437499a29d0",
   "metadata": {},
   "source": [
    "Q4"
   ]
  },
  {
   "cell_type": "markdown",
   "id": "628b0640-c16a-4a09-9017-bdbab31ff08f",
   "metadata": {},
   "source": [
    "a.. try and else : try statement is used to catch the program first if program was succefully execute then only it goes to remaining statement except 'except' statement.\n",
    "\n",
    "else: else is the statement which will only execute on succesfully execution of try statement.\n",
    "\n",
    "b.. finally: finally is the statement which will execute in any situation even if ther is error or exceptin.\n",
    "\n",
    "c.. raise: raise statement is used to raise an custom exceptions."
   ]
  },
  {
   "cell_type": "code",
   "execution_count": 8,
   "id": "dc75b5e0-2424-4198-b613-9435ad9e021f",
   "metadata": {},
   "outputs": [
    {
     "name": "stdout",
     "output_type": "stream",
     "text": [
      "40\n",
      "On successfull execution of try\n",
      "In any situation finally will print\n"
     ]
    }
   ],
   "source": [
    "try :\n",
    "    a = 10 + 30\n",
    "    print(a) \n",
    "except Exception as e:\n",
    "    print(e)\n",
    "else:\n",
    "    print(\"On successfull execution of try\")\n",
    "finally:\n",
    "    print(\"In any situation finally will print\")\n"
   ]
  },
  {
   "cell_type": "markdown",
   "id": "638520c2-dd6f-4484-9d2f-a2706065a955",
   "metadata": {},
   "source": [
    "Q5"
   ]
  },
  {
   "cell_type": "markdown",
   "id": "bf539653-5ecf-44fe-8d98-5f0d7a606862",
   "metadata": {},
   "source": [
    "Custom Exception are those exception which are defined by users.\n",
    "\n",
    "Custom Exception are neccessary when we working on a real time project because built in exception are only related to pytthon problems but here we can give from ourself a better idea or project related information exception.\n",
    "\n",
    "suppose if we talk about voting we know that we only vote above 18 but python doesn't know this criteria that were we use custom exception to raise our issue or any related information. "
   ]
  },
  {
   "cell_type": "markdown",
   "id": "1f64ca64-4f21-4eb0-945d-faa7960e5f28",
   "metadata": {},
   "source": [
    "Q6"
   ]
  },
  {
   "cell_type": "code",
   "execution_count": 9,
   "id": "e38fcc7f-aec3-4010-8621-8f29e4e9c69f",
   "metadata": {},
   "outputs": [],
   "source": [
    "class voting(Exception):\n",
    "    def __init__(self,msg):\n",
    "        self.msg = msg"
   ]
  },
  {
   "cell_type": "code",
   "execution_count": 10,
   "id": "683d293d-d141-4dc4-8e3d-bfc9c196d1a8",
   "metadata": {},
   "outputs": [],
   "source": [
    "def validage(age):\n",
    "    if age > 18:\n",
    "        raise voting(\"Yes you are eligible for voting\")\n",
    "    elif age<=18:\n",
    "        raise voting(\"No you can't vote right now\")"
   ]
  },
  {
   "cell_type": "code",
   "execution_count": 11,
   "id": "e7c4be0c-2d63-4316-b1bb-f80bb739f973",
   "metadata": {},
   "outputs": [
    {
     "name": "stdin",
     "output_type": "stream",
     "text": [
      "Enter your age 45\n"
     ]
    },
    {
     "name": "stdout",
     "output_type": "stream",
     "text": [
      "Yes you are eligible for voting\n"
     ]
    }
   ],
   "source": [
    "try:\n",
    "    age = int(input(\"Enter your age\"))\n",
    "    validage(age)\n",
    "except voting as e:\n",
    "    print(e)"
   ]
  },
  {
   "cell_type": "code",
   "execution_count": null,
   "id": "2d4fe779-8ad9-454c-a93a-ba0a7e84a5bb",
   "metadata": {},
   "outputs": [],
   "source": []
  }
 ],
 "metadata": {
  "kernelspec": {
   "display_name": "Python 3 (ipykernel)",
   "language": "python",
   "name": "python3"
  },
  "language_info": {
   "codemirror_mode": {
    "name": "ipython",
    "version": 3
   },
   "file_extension": ".py",
   "mimetype": "text/x-python",
   "name": "python",
   "nbconvert_exporter": "python",
   "pygments_lexer": "ipython3",
   "version": "3.10.6"
  }
 },
 "nbformat": 4,
 "nbformat_minor": 5
}
