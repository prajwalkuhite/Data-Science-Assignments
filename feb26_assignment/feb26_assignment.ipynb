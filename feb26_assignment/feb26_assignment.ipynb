{
 "cells": [
  {
   "cell_type": "markdown",
   "id": "4c2b1d2a-7688-4d8e-b1a3-3521c0cc6ec1",
   "metadata": {},
   "source": [
    "Q1. Is there any difference in the data type of variables list_ and array_list? If there is then write a code\n",
    "to print the data types of both the variables."
   ]
  },
  {
   "cell_type": "code",
   "execution_count": 38,
   "id": "fa7d6561-8a02-40b0-a23b-9364f7b90ab4",
   "metadata": {},
   "outputs": [],
   "source": [
    "import numpy as np\n",
    "list_ = ['1','2','3','4','5']\n",
    "array_list = np.array(object = list_)"
   ]
  },
  {
   "cell_type": "code",
   "execution_count": 39,
   "id": "a7a71aad-e0cc-48bb-9210-fad3d6300909",
   "metadata": {},
   "outputs": [
    {
     "data": {
      "text/plain": [
       "['1', '2', '3', '4', '5']"
      ]
     },
     "execution_count": 39,
     "metadata": {},
     "output_type": "execute_result"
    }
   ],
   "source": [
    "list_"
   ]
  },
  {
   "cell_type": "code",
   "execution_count": 40,
   "id": "69588df4-2169-43e4-bf1d-51260c1f0e0a",
   "metadata": {},
   "outputs": [
    {
     "data": {
      "text/plain": [
       "array(['1', '2', '3', '4', '5'], dtype='<U1')"
      ]
     },
     "execution_count": 40,
     "metadata": {},
     "output_type": "execute_result"
    }
   ],
   "source": [
    "array_list"
   ]
  },
  {
   "cell_type": "markdown",
   "id": "e8ced5a2-0884-418f-b853-0fe2c5e19587",
   "metadata": {},
   "source": [
    "Answer :\n",
    "\n",
    "Yes, there is a difference in the data type of the list_ and array_list variables.\n",
    "\n",
    "The list_ variable is a python list of strings, whereas array_list is a numpy array of strings. Even they both contain the same string values, they have different data types because they are different types of objects."
   ]
  },
  {
   "cell_type": "code",
   "execution_count": 43,
   "id": "bd85b66c-36cc-4582-b13c-d17b924192d1",
   "metadata": {},
   "outputs": [
    {
     "data": {
      "text/plain": [
       "list"
      ]
     },
     "execution_count": 43,
     "metadata": {},
     "output_type": "execute_result"
    }
   ],
   "source": [
    "type(list_)"
   ]
  },
  {
   "cell_type": "code",
   "execution_count": 44,
   "id": "3bd6140d-4fdb-4b4f-a888-aca1fb92de34",
   "metadata": {},
   "outputs": [
    {
     "data": {
      "text/plain": [
       "numpy.ndarray"
      ]
     },
     "execution_count": 44,
     "metadata": {},
     "output_type": "execute_result"
    }
   ],
   "source": [
    "type(array_list)"
   ]
  },
  {
   "cell_type": "code",
   "execution_count": null,
   "id": "4b20085d-d1dc-422f-9437-3c8bd988fce0",
   "metadata": {},
   "outputs": [],
   "source": []
  },
  {
   "cell_type": "markdown",
   "id": "0dab41bf-a019-4044-abac-b0a1a8575030",
   "metadata": {},
   "source": [
    "Q2. Write a code to print the data type of each and every element of both the variables list_ and\n",
    "arra_list."
   ]
  },
  {
   "cell_type": "code",
   "execution_count": 13,
   "id": "4c96aded-4624-4c49-81eb-1ccecf48beb3",
   "metadata": {},
   "outputs": [
    {
     "name": "stdout",
     "output_type": "stream",
     "text": [
      "element:1 , datatype <class 'str'>\n",
      "element:2 , datatype <class 'str'>\n",
      "element:3 , datatype <class 'str'>\n",
      "element:4 , datatype <class 'str'>\n",
      "element:5 , datatype <class 'str'>\n"
     ]
    }
   ],
   "source": [
    "for i in list_:\n",
    "    print(f\"element:{i} , datatype {type(i)}\")"
   ]
  },
  {
   "cell_type": "code",
   "execution_count": 14,
   "id": "234d303c-c5ce-4f86-9068-d1fcaf83d2c2",
   "metadata": {},
   "outputs": [
    {
     "name": "stdout",
     "output_type": "stream",
     "text": [
      "element:1 , datatype <class 'numpy.str_'>\n",
      "element:2 , datatype <class 'numpy.str_'>\n",
      "element:3 , datatype <class 'numpy.str_'>\n",
      "element:4 , datatype <class 'numpy.str_'>\n",
      "element:5 , datatype <class 'numpy.str_'>\n"
     ]
    }
   ],
   "source": [
    "for i in array_list:\n",
    "    print(f\"element:{i} , datatype {type(i)}\")"
   ]
  },
  {
   "cell_type": "code",
   "execution_count": null,
   "id": "5edd49e6-ef8e-4069-87e1-9798a2ec051a",
   "metadata": {},
   "outputs": [],
   "source": []
  },
  {
   "cell_type": "markdown",
   "id": "29c74675-a996-4bde-bc45-4352d3b44ae2",
   "metadata": {},
   "source": [
    "Q3. Considering the following changes in the variable, array_list:\n",
    "\n",
    "array_list = np.array(object = list_, dtype = int)\n",
    "\n",
    "Will there be any difference in the data type of the elements present in both the variables, list_ and\n",
    "arra_list? If so then print the data types of each and every element present in both the variables, list_\n",
    "and arra_list."
   ]
  },
  {
   "cell_type": "code",
   "execution_count": 47,
   "id": "dac0cc54-6f83-4778-a6bd-025699341720",
   "metadata": {},
   "outputs": [],
   "source": [
    "array_list = np.array(object = list_, dtype = int)"
   ]
  },
  {
   "cell_type": "code",
   "execution_count": 48,
   "id": "37bc0a4c-6916-4ca7-8eff-75b4fdcb1425",
   "metadata": {},
   "outputs": [
    {
     "data": {
      "text/plain": [
       "numpy.int64"
      ]
     },
     "execution_count": 48,
     "metadata": {},
     "output_type": "execute_result"
    }
   ],
   "source": [
    "type(array_list[0])"
   ]
  },
  {
   "cell_type": "code",
   "execution_count": 49,
   "id": "00c4bff1-af66-41f9-a112-edfb10eddb69",
   "metadata": {},
   "outputs": [
    {
     "data": {
      "text/plain": [
       "str"
      ]
     },
     "execution_count": 49,
     "metadata": {},
     "output_type": "execute_result"
    }
   ],
   "source": [
    "type(list_[0])"
   ]
  },
  {
   "cell_type": "markdown",
   "id": "476e3be3-3771-4768-8b6e-8f3b1f67b278",
   "metadata": {},
   "source": [
    "Yes now the datatype of array_list is change to 'numpy.int' and the datatype of each element in list_ is same as above 'str'"
   ]
  },
  {
   "cell_type": "code",
   "execution_count": 50,
   "id": "1816cf06-b07d-44a3-b793-e6fead242e6d",
   "metadata": {},
   "outputs": [
    {
     "name": "stdout",
     "output_type": "stream",
     "text": [
      "Element: 1, datatype: <class 'numpy.int64'>\n",
      "Element: 2, datatype: <class 'numpy.int64'>\n",
      "Element: 3, datatype: <class 'numpy.int64'>\n",
      "Element: 4, datatype: <class 'numpy.int64'>\n",
      "Element: 5, datatype: <class 'numpy.int64'>\n"
     ]
    }
   ],
   "source": [
    "for i in array_list:\n",
    "    print(f\"Element: {i}, datatype: {type(i)}\")"
   ]
  },
  {
   "cell_type": "code",
   "execution_count": 51,
   "id": "e9824256-9517-4363-8430-51cc32188bcc",
   "metadata": {},
   "outputs": [
    {
     "name": "stdout",
     "output_type": "stream",
     "text": [
      "Element: 1, datatype: <class 'str'>\n",
      "Element: 2, datatype: <class 'str'>\n",
      "Element: 3, datatype: <class 'str'>\n",
      "Element: 4, datatype: <class 'str'>\n",
      "Element: 5, datatype: <class 'str'>\n"
     ]
    }
   ],
   "source": [
    "for i in list_:\n",
    "    print(f\"Element: {i}, datatype: {type(i)}\")"
   ]
  },
  {
   "cell_type": "code",
   "execution_count": null,
   "id": "446d8a76-e9b3-4d35-b9ed-02e0f70a0190",
   "metadata": {},
   "outputs": [],
   "source": []
  },
  {
   "cell_type": "markdown",
   "id": "b2adfdf3-5d3a-478b-b5d2-d7a9f7646119",
   "metadata": {},
   "source": [
    "Q4. Write a code to find the following characteristics of variable, num_array: (i) shape (ii) size"
   ]
  },
  {
   "cell_type": "markdown",
   "id": "2d04f3e5-761b-40b2-9468-da06febc7d67",
   "metadata": {},
   "source": [
    "Consider the below code to answer further questions:\n",
    "\n",
    "import numpy as np\n",
    "\n",
    "num_list = [ [ 1 , 2 , 3 ] , [ 4 , 5 , 6 ] ]\n",
    "\n",
    "num_array = np.array(object = num_list)"
   ]
  },
  {
   "cell_type": "code",
   "execution_count": 52,
   "id": "749bb850-2eeb-482f-bbcf-fc09f41fa002",
   "metadata": {},
   "outputs": [],
   "source": [
    "import numpy as np\n",
    "num_list = [ [ 1 , 2 , 3 ] , [ 4 , 5 , 6 ] ]\n",
    "num_array = np.array(object = num_list)"
   ]
  },
  {
   "cell_type": "code",
   "execution_count": 53,
   "id": "778a2e7c-cf70-4d37-ab5b-8495476284c2",
   "metadata": {},
   "outputs": [
    {
     "data": {
      "text/plain": [
       "6"
      ]
     },
     "execution_count": 53,
     "metadata": {},
     "output_type": "execute_result"
    }
   ],
   "source": [
    "num_array.size"
   ]
  },
  {
   "cell_type": "code",
   "execution_count": 54,
   "id": "994aa18f-b844-4666-beb2-85c909279797",
   "metadata": {},
   "outputs": [
    {
     "data": {
      "text/plain": [
       "(2, 3)"
      ]
     },
     "execution_count": 54,
     "metadata": {},
     "output_type": "execute_result"
    }
   ],
   "source": [
    "num_array.shape"
   ]
  },
  {
   "cell_type": "code",
   "execution_count": null,
   "id": "8276f36f-68fd-40e3-b7e9-1ff92ac387b9",
   "metadata": {},
   "outputs": [],
   "source": []
  },
  {
   "cell_type": "markdown",
   "id": "0fceb3b9-6004-4dca-a7c2-079d1a1b6d63",
   "metadata": {},
   "source": [
    "Q5. Write a code to create numpy array of 3*3 matrix containing zeros only, using a numpy array\n",
    "creation function.\n",
    "[Hint: The size of the array will be 9 and the shape will be (3,3).]"
   ]
  },
  {
   "cell_type": "code",
   "execution_count": 47,
   "id": "51a0dfad-d273-4333-81f6-571b64841a23",
   "metadata": {},
   "outputs": [],
   "source": [
    "matrix = np.zeros((3,3))"
   ]
  },
  {
   "cell_type": "code",
   "execution_count": 48,
   "id": "d57e6476-474b-42c6-bb33-7d296b922544",
   "metadata": {},
   "outputs": [
    {
     "data": {
      "text/plain": [
       "array([[0., 0., 0.],\n",
       "       [0., 0., 0.],\n",
       "       [0., 0., 0.]])"
      ]
     },
     "execution_count": 48,
     "metadata": {},
     "output_type": "execute_result"
    }
   ],
   "source": [
    "matrix"
   ]
  },
  {
   "cell_type": "code",
   "execution_count": 49,
   "id": "684efaf5-d953-4797-8cb0-d8d7fca1e9fc",
   "metadata": {},
   "outputs": [
    {
     "data": {
      "text/plain": [
       "9"
      ]
     },
     "execution_count": 49,
     "metadata": {},
     "output_type": "execute_result"
    }
   ],
   "source": [
    "matrix.size"
   ]
  },
  {
   "cell_type": "code",
   "execution_count": null,
   "id": "f3589734-a1a2-48e2-b16e-1a654a787a90",
   "metadata": {},
   "outputs": [],
   "source": []
  },
  {
   "cell_type": "markdown",
   "id": "1c80fa99-6252-472e-90a3-5fb634f969f5",
   "metadata": {},
   "source": [
    "Q6. Create an identity matrix of shape (5,5) using numpy functions?\n",
    "[Hint: An identity matrix is a matrix containing 1 diagonally and other elements will be 0.]"
   ]
  },
  {
   "cell_type": "code",
   "execution_count": 50,
   "id": "3178e1b7-6226-4a09-86fd-6a32fa320f82",
   "metadata": {},
   "outputs": [],
   "source": [
    "Identity_matrix = np.eye(5)"
   ]
  },
  {
   "cell_type": "code",
   "execution_count": 51,
   "id": "f9b75235-542b-44f1-a7f7-12a3196c9487",
   "metadata": {},
   "outputs": [
    {
     "data": {
      "text/plain": [
       "array([[1., 0., 0., 0., 0.],\n",
       "       [0., 1., 0., 0., 0.],\n",
       "       [0., 0., 1., 0., 0.],\n",
       "       [0., 0., 0., 1., 0.],\n",
       "       [0., 0., 0., 0., 1.]])"
      ]
     },
     "execution_count": 51,
     "metadata": {},
     "output_type": "execute_result"
    }
   ],
   "source": [
    "Identity_matrix"
   ]
  },
  {
   "cell_type": "code",
   "execution_count": null,
   "id": "b926190b-6eba-4b87-90bf-bdae94a9f657",
   "metadata": {},
   "outputs": [],
   "source": []
  }
 ],
 "metadata": {
  "kernelspec": {
   "display_name": "Python 3 (ipykernel)",
   "language": "python",
   "name": "python3"
  },
  "language_info": {
   "codemirror_mode": {
    "name": "ipython",
    "version": 3
   },
   "file_extension": ".py",
   "mimetype": "text/x-python",
   "name": "python",
   "nbconvert_exporter": "python",
   "pygments_lexer": "ipython3",
   "version": "3.10.6"
  }
 },
 "nbformat": 4,
 "nbformat_minor": 5
}
