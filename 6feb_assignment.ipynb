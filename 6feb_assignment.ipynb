{
 "cells": [
  {
   "cell_type": "markdown",
   "id": "48624712-1e09-4a93-8a0f-f0a4d7ee3cca",
   "metadata": {},
   "source": [
    "Q2"
   ]
  },
  {
   "cell_type": "code",
   "execution_count": 53,
   "id": "6414560c-359f-4623-baf3-6ef8edcfc7a9",
   "metadata": {},
   "outputs": [],
   "source": [
    "def encrypt_message(message):\n",
    "    \n",
    "    message =  message.lower()\n",
    "    encrypted_message =\"\"\n",
    "    \n",
    "    for char in message:\n",
    "        if char == \" \":\n",
    "            encrypted_message += \"$\"\n",
    "        elif char.isalpha():\n",
    "            encrypted_message += chr(122-ord(char)+97)\n",
    "        else:\n",
    "            encrypted_message += char\n",
    "    return encrypted_message\n",
    "           \n",
    "    "
   ]
  },
  {
   "cell_type": "code",
   "execution_count": 54,
   "id": "19b446fb-4c93-403f-b0da-d8bb1bf34531",
   "metadata": {},
   "outputs": [
    {
     "name": "stdout",
     "output_type": "stream",
     "text": [
      "Encrypted message : r$dzmg$gl$yvxlnv$z$wzgz$hxrvmgrhg\n"
     ]
    }
   ],
   "source": [
    "sample_message ='I want to become a Data Scientist'\n",
    "print(\"Encrypted message :\",encrypt_message(sample_message))"
   ]
  },
  {
   "cell_type": "markdown",
   "id": "9110915f-eaa5-49d7-91e1-5cddd6683def",
   "metadata": {},
   "source": [
    "Q1"
   ]
  },
  {
   "cell_type": "code",
   "execution_count": 1,
   "id": "dd176547-1344-4e98-b3e9-d666ecc56a32",
   "metadata": {},
   "outputs": [],
   "source": [
    "list1 = [1,2,3,4,[44,55,66,True],False,(34,56,78,89,34),{1,2,3,3,2,1},\n",
    "         {1:34,\"key2\":[55,67,78,89], 4:(45,22,61,34)},[56,\"data science\"],\n",
    "         \"Machine Learning\"]"
   ]
  },
  {
   "cell_type": "code",
   "execution_count": 4,
   "id": "0ba828f1-ace6-4307-89ba-7d849982b474",
   "metadata": {},
   "outputs": [],
   "source": [
    "def func(list1):\n",
    "    \n",
    "    lst = []\n",
    "    lst2 = []\n",
    "    lst3 = []\n",
    "    lst4 = []\n",
    "    flat_list = []\n",
    "    \n",
    "    for i in list1:\n",
    "        if type(i) == int :\n",
    "            lst.append(i)\n",
    "        if type(i) == list or type(i)== tuple or type(i) == set:\n",
    "            for j in i:\n",
    "                lst.append(j)\n",
    "    a =lst \n",
    "\n",
    "    for k in lst:\n",
    "        if type(k) != str:\n",
    "            lst2.append(k)\n",
    "    b=lst2\n",
    "   \n",
    "    for l in list1:\n",
    "        if type(l) == dict:\n",
    "            for key,val in l.items():\n",
    "                if type(key) == int:\n",
    "                    lst3.append(key)\n",
    "    \n",
    "        if type(l) == dict:\n",
    "             for key,val in l.items():\n",
    "                if type(val) == int:\n",
    "                    lst4.append(val)\n",
    "                if type(val) == list or type(val) == tuple:\n",
    "                    for m in val:\n",
    "                        lst4.append(m)\n",
    "    c = lst3\n",
    "    d = lst4\n",
    "    \n",
    "    flat_list = b+c+d\n",
    "    print(\"Flat list is\",flat_list)\n",
    "    \n",
    "    # Now we have a flat list\n",
    "    \n",
    "    from functools import reduce\n",
    "    product = reduce(lambda x , y : x*y , flat_list)\n",
    "    print(\"Product of the flat list is :\",product)\n",
    "    "
   ]
  },
  {
   "cell_type": "code",
   "execution_count": 5,
   "id": "ba404cc9-3d34-4569-a60e-bc619f7d1046",
   "metadata": {},
   "outputs": [
    {
     "name": "stdout",
     "output_type": "stream",
     "text": [
      "Flat list is [1, 2, 3, 4, 44, 55, 66, True, 34, 56, 78, 89, 34, 1, 2, 3, 56, 1, 4, 34, 55, 67, 78, 89, 45, 22, 61, 34]\n",
      "Product of the flat list is : 4134711838987085478833841242112000\n"
     ]
    }
   ],
   "source": [
    "func(list1)"
   ]
  },
  {
   "cell_type": "code",
   "execution_count": null,
   "id": "d05daa48-5aab-4bda-a387-00002f2b0f5a",
   "metadata": {},
   "outputs": [],
   "source": []
  }
 ],
 "metadata": {
  "kernelspec": {
   "display_name": "Python 3 (ipykernel)",
   "language": "python",
   "name": "python3"
  },
  "language_info": {
   "codemirror_mode": {
    "name": "ipython",
    "version": 3
   },
   "file_extension": ".py",
   "mimetype": "text/x-python",
   "name": "python",
   "nbconvert_exporter": "python",
   "pygments_lexer": "ipython3",
   "version": "3.10.6"
  }
 },
 "nbformat": 4,
 "nbformat_minor": 5
}
