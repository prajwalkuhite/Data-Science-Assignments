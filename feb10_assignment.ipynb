{
 "cells": [
  {
   "cell_type": "markdown",
   "id": "5783f05c-d765-4319-b8a0-0f133fd15474",
   "metadata": {},
   "source": [
    "Q1"
   ]
  },
  {
   "cell_type": "markdown",
   "id": "11ea1b8c-e1e9-488b-bc88-b9537d19f725",
   "metadata": {},
   "source": [
    "\"Open\" function is used to open a file.\n",
    "\n",
    "There are different types of modes in files :\n",
    "1)  'r'-- this mode is a read mode which is used to read a data inside a particular file. we have to assigned a variable for that and then simply print that.\n",
    "\n",
    "2)  'w'-- this mode is a write mode which is used to write anything in a file.\n",
    "\n",
    "3) 'a'-- this mode is a append mode in which we will add another data or information inside that particular file.\n",
    "\n",
    "4) '+'-- this mode is a update mode in which we both read or write."
   ]
  },
  {
   "cell_type": "markdown",
   "id": "8af4c4f8-fdda-4184-9eaa-0d9e94a037de",
   "metadata": {},
   "source": [
    "Q2"
   ]
  },
  {
   "cell_type": "markdown",
   "id": "019cefa9-87e8-440b-9ff0-2f183f74b91c",
   "metadata": {},
   "source": [
    "close() function is used to close a file after performing any action.\n",
    "\n",
    "Files should be closed everytime because it will protect against the corrupted data and any other trackings by others. After closing files it will easy to share with others without any virus.\n"
   ]
  },
  {
   "cell_type": "markdown",
   "id": "c1857560-8571-4939-b691-600d20e4da40",
   "metadata": {},
   "source": [
    "Q3"
   ]
  },
  {
   "cell_type": "code",
   "execution_count": 6,
   "id": "e3d766b3-ad7c-48a8-91be-153707dcb7f1",
   "metadata": {},
   "outputs": [],
   "source": [
    "f = open(\"DS.txt\",'w')\n",
    "f.write(\"I want to becomea data scientist\")\n",
    "f.close()"
   ]
  },
  {
   "cell_type": "code",
   "execution_count": 7,
   "id": "ef32e227-4df2-44ac-b07e-4d2993547aaf",
   "metadata": {},
   "outputs": [
    {
     "name": "stdout",
     "output_type": "stream",
     "text": [
      "I want to becomea data scientist\n"
     ]
    }
   ],
   "source": [
    "f = open(\"DS.txt\",'r')\n",
    "print(f.read())"
   ]
  },
  {
   "cell_type": "markdown",
   "id": "4ba82589-6fe0-4c7a-a7ed-c572073fa685",
   "metadata": {},
   "source": [
    "Q4"
   ]
  },
  {
   "cell_type": "code",
   "execution_count": 54,
   "id": "3a0a2f99-8374-41a1-acc4-b7cbba0c5349",
   "metadata": {},
   "outputs": [],
   "source": [
    "f = open('Pyth.txt','w')\n",
    "f.write(\"Data Science Masters course is highly curated and uniquely designed according to the latest industry standards.\\n This program instills students the skills essential to knowledge discovery efforts to identify standard, novel, and truly differentiated solutions and decision-making, including skills in managing, querying, analyzing, visualizing, and extracting meaning from extremely large data sets.\\n This trending program provides students with the statistical, mathematical and computational skills needed to meet the large-scale data science challenges of today's professional world.\\n You will learn all the stack required to work in data science industry including cloud infrastructure and real-time industry projects.\\n This course will be taught in Hindi language.\")\n",
    "f.close()"
   ]
  },
  {
   "cell_type": "markdown",
   "id": "08901214-ac4d-4ce9-ae99-0e11fcc2a3d4",
   "metadata": {},
   "source": [
    "Read() method is used to read all the data inside a file."
   ]
  },
  {
   "cell_type": "code",
   "execution_count": 77,
   "id": "f2734936-9732-4efd-9374-f8c5fcea7e58",
   "metadata": {},
   "outputs": [
    {
     "name": "stdout",
     "output_type": "stream",
     "text": [
      "Data Science Masters course is highly curated and uniquely designed according to the latest industry standards.\n",
      " This program instills students the skills essential to knowledge discovery efforts to identify standard, novel, and truly differentiated solutions and decision-making, including skills in managing, querying, analyzing, visualizing, and extracting meaning from extremely large data sets.\n",
      " This trending program provides students with the statistical, mathematical and computational skills needed to meet the large-scale data science challenges of today's professional world.\n",
      " You will learn all the stack required to work in data science industry including cloud infrastructure and real-time industry projects.\n",
      " This course will be taught in Hindi language.\n"
     ]
    }
   ],
   "source": [
    "f = open(\"Pyth.txt\",'r')\n",
    "print(f.read())\n",
    "f.close()"
   ]
  },
  {
   "cell_type": "markdown",
   "id": "3bc98d5c-13f7-495d-8119-f23d6249df70",
   "metadata": {},
   "source": [
    "Readline() is used to read single line from a file and if we print again then it printed next line and also we can also specify no. of bytes so the line will read up to that."
   ]
  },
  {
   "cell_type": "code",
   "execution_count": 6,
   "id": "f2fbd63a-36bf-47cc-a742-8e187c187237",
   "metadata": {},
   "outputs": [
    {
     "name": "stdout",
     "output_type": "stream",
     "text": [
      "Data Science Masters course is highly curated and uniquely designed according to the latest industry standards.\n",
      "\n",
      " This program instills students the skills essential to knowledge discovery efforts to identify standard, novel, and truly differentiated solutions and decision-making, including skills in managing, querying, analyzing, visualizing, and extracting meaning from extremely large data sets.\n",
      "\n",
      " This trending program provides students with the \n"
     ]
    }
   ],
   "source": [
    "f = open(\"Pyth.txt\",'r')\n",
    "print(f.readline())\n",
    "print(f.readline())\n",
    "print(f.readline(50))\n",
    "f.close()"
   ]
  },
  {
   "cell_type": "markdown",
   "id": "6b10182d-f2d2-427a-b2f9-b362a6b8529d",
   "metadata": {},
   "source": [
    "Readlines()  is used to read all lines in a file. This method reads all the lines but in a list."
   ]
  },
  {
   "cell_type": "code",
   "execution_count": 24,
   "id": "970dec64-c184-4195-83d2-bbcc54eaaaad",
   "metadata": {},
   "outputs": [
    {
     "name": "stdout",
     "output_type": "stream",
     "text": [
      "['Data Science Masters course is highly curated and uniquely designed according to the latest industry standards.\\n', ' This program instills students the skills essential to knowledge discovery efforts to identify standard, novel, and truly differentiated solutions and decision-making, including skills in managing, querying, analyzing, visualizing, and extracting meaning from extremely large data sets.\\n', \" This trending program provides students with the statistical, mathematical and computational skills needed to meet the large-scale data science challenges of today's professional world.\\n\", ' You will learn all the stack required to work in data science industry including cloud infrastructure and real-time industry projects.\\n', ' This course will be taught in Hindi language.']\n",
      "Data Science Masters course is highly curated and uniquely designed according to the latest industry standards.\n",
      "\n",
      " This program instills students the skills essential to knowledge discovery efforts to identify standard, novel, and truly differentiated solutions and decision-making, including skills in managing, querying, analyzing, visualizing, and extracting meaning from extremely large data sets.\n",
      "\n",
      " This trending program provides students with the statistical, mathematical and computational skills needed to meet the large-scale data science challenges of today's professional world.\n",
      "\n",
      " You will learn all the stack required to work in data science industry including cloud infrastructure and real-time industry projects.\n",
      "\n",
      " This course will be taught in Hindi language.\n"
     ]
    }
   ],
   "source": [
    "f = open(\"Pyth.txt\",'r')\n",
    "data = (f.readlines())\n",
    "print(data)\n",
    "for line in data:\n",
    "    print(line)\n",
    "f.close()"
   ]
  },
  {
   "cell_type": "markdown",
   "id": "dd1d1b6a-5f26-4193-a446-e0b697aa1e49",
   "metadata": {},
   "source": [
    "Q5"
   ]
  },
  {
   "cell_type": "markdown",
   "id": "0d264802-bc6a-48ce-a19b-dc4b91a71dce",
   "metadata": {},
   "source": [
    "With statement is a another way to open a file. This way is mostly used due to following advatage:\n",
    "\n",
    "using 'with' statement with open() function is more efficient than normal way because here we don't write a close() function. Here using'with' statement close() function automatically calls and close the file. Sometimes we forgot to close a file but if we go \"with\" statement then it will be more effective for us. \n",
    "\n"
   ]
  },
  {
   "cell_type": "markdown",
   "id": "a646c338-e29d-4f19-9eb9-4eba74b8bdb8",
   "metadata": {},
   "source": [
    "Q6"
   ]
  },
  {
   "cell_type": "markdown",
   "id": "8a2c4606-68c5-4519-93e0-58b6b1ff52ae",
   "metadata": {},
   "source": [
    "write() function is used to write a data inside a file in a write mode. suppose if data is already exist in a file then exsisting data overwrites with new data. "
   ]
  },
  {
   "cell_type": "code",
   "execution_count": 30,
   "id": "3b166a1e-688e-4cf9-b4e1-5219fa91d225",
   "metadata": {},
   "outputs": [],
   "source": [
    "with open(\"Pyth2.txt\",'w') as f:\n",
    "    f.write(\"Hello\\nworld\")\n"
   ]
  },
  {
   "cell_type": "markdown",
   "id": "199302a9-4ebe-452f-bdb1-4e376a92a517",
   "metadata": {},
   "source": [
    "writelines() method is used to write a group of lines of strings into a file.\n",
    "Group of strings are stored in a list,tuple or set"
   ]
  },
  {
   "cell_type": "code",
   "execution_count": 44,
   "id": "040a1cbf-25e1-4220-8681-810467bee558",
   "metadata": {},
   "outputs": [],
   "source": [
    "with open(\"Pyth3.txt\",'w') as f:\n",
    "    lines_list = (\"Create your assignment in Jupyter notebook and\\nupload it to GitHub & share that GitHub re link through your dashboard. Make sure the repository is public.\")\n",
    "    f.writelines(lines_list)"
   ]
  },
  {
   "cell_type": "code",
   "execution_count": 45,
   "id": "8072b475-070c-40fc-b090-569785362cd6",
   "metadata": {},
   "outputs": [
    {
     "name": "stdout",
     "output_type": "stream",
     "text": [
      "Create your assignment in Jupyter notebook and\n",
      "upload it to GitHub & share that GitHub re link through your dashboard. Make sure the repository is public.\n"
     ]
    }
   ],
   "source": [
    "with open(\"Pyth3.txt\",'r') as f:\n",
    "    data = f.read()\n",
    "    print(data)"
   ]
  },
  {
   "cell_type": "code",
   "execution_count": null,
   "id": "d949dfa3-70d2-4b90-9db4-037bf1e29355",
   "metadata": {},
   "outputs": [],
   "source": []
  }
 ],
 "metadata": {
  "kernelspec": {
   "display_name": "Python 3 (ipykernel)",
   "language": "python",
   "name": "python3"
  },
  "language_info": {
   "codemirror_mode": {
    "name": "ipython",
    "version": 3
   },
   "file_extension": ".py",
   "mimetype": "text/x-python",
   "name": "python",
   "nbconvert_exporter": "python",
   "pygments_lexer": "ipython3",
   "version": "3.10.6"
  }
 },
 "nbformat": 4,
 "nbformat_minor": 5
}
