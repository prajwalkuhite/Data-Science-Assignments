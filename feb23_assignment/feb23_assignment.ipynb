{
 "cells": [
  {
   "cell_type": "code",
   "execution_count": 1,
   "id": "4c70a6ab-219d-426f-9631-e6c63f34cf2c",
   "metadata": {},
   "outputs": [],
   "source": [
    "import pandas as pd"
   ]
  },
  {
   "cell_type": "markdown",
   "id": "78636c7e-ea0d-49a9-b9a2-13066d0d6cfd",
   "metadata": {},
   "source": [
    "Q1. Create a Pandas Series that contains the following data: 4, 8, 15, 16, 23, and 42. Then, print the series."
   ]
  },
  {
   "cell_type": "code",
   "execution_count": 2,
   "id": "12aaf046-92fd-4d46-b5b1-1f028ce19e9b",
   "metadata": {},
   "outputs": [],
   "source": [
    "series = [4,8,15,16,23,42]"
   ]
  },
  {
   "cell_type": "code",
   "execution_count": 3,
   "id": "09f3fe5f-afa6-44fa-858f-fe35a93e8873",
   "metadata": {},
   "outputs": [],
   "source": [
    "result = pd.Series(series)"
   ]
  },
  {
   "cell_type": "code",
   "execution_count": 4,
   "id": "e6b70d95-3927-4d33-9576-350bf85e8e2a",
   "metadata": {},
   "outputs": [
    {
     "name": "stdout",
     "output_type": "stream",
     "text": [
      "0     4\n",
      "1     8\n",
      "2    15\n",
      "3    16\n",
      "4    23\n",
      "5    42\n",
      "dtype: int64\n"
     ]
    }
   ],
   "source": [
    "print(result)"
   ]
  },
  {
   "cell_type": "markdown",
   "id": "520bafd6-5eb1-4459-ad4b-62267d5810ba",
   "metadata": {},
   "source": [
    "Q2. Create a variable of list type containing 10 elements in it, and apply pandas.Series function on the\n",
    "variable print it."
   ]
  },
  {
   "cell_type": "code",
   "execution_count": 13,
   "id": "7d9752c0-336a-4b32-a6f6-3d8da4545751",
   "metadata": {},
   "outputs": [],
   "source": [
    "var = [10,20,30,40,50,60,70,80,90,100]"
   ]
  },
  {
   "cell_type": "code",
   "execution_count": 14,
   "id": "07de5f54-47f6-4326-94f7-e7190bdef083",
   "metadata": {},
   "outputs": [
    {
     "name": "stdout",
     "output_type": "stream",
     "text": [
      "0     10\n",
      "1     20\n",
      "2     30\n",
      "3     40\n",
      "4     50\n",
      "5     60\n",
      "6     70\n",
      "7     80\n",
      "8     90\n",
      "9    100\n",
      "dtype: int64\n"
     ]
    }
   ],
   "source": [
    "result1 = pd.Series(var)\n",
    "print(result1)"
   ]
  },
  {
   "cell_type": "markdown",
   "id": "73ef50db-2c4a-496d-a2d1-d7b7d4e98410",
   "metadata": {},
   "source": [
    "Q3. Create a Pandas DataFrame that contains the following data:"
   ]
  },
  {
   "cell_type": "code",
   "execution_count": 23,
   "id": "a8d0eb1a-f350-4bb9-bafb-c36f5fa1fb1f",
   "metadata": {},
   "outputs": [],
   "source": [
    "data = {\n",
    "        'Name': ['Alice','Bob','Claire'],\n",
    "        'Age' : [25,30,27],\n",
    "        'Gender' : ['Female','Male','Femaile']\n",
    "        }"
   ]
  },
  {
   "cell_type": "code",
   "execution_count": 24,
   "id": "6a655172-ad81-44de-959c-2af2f754c183",
   "metadata": {},
   "outputs": [],
   "source": [
    "result3 = pd.DataFrame(data)"
   ]
  },
  {
   "cell_type": "code",
   "execution_count": 25,
   "id": "34ded84a-e980-4221-9dc1-1e208c0a6fcf",
   "metadata": {},
   "outputs": [
    {
     "data": {
      "text/html": [
       "<div>\n",
       "<style scoped>\n",
       "    .dataframe tbody tr th:only-of-type {\n",
       "        vertical-align: middle;\n",
       "    }\n",
       "\n",
       "    .dataframe tbody tr th {\n",
       "        vertical-align: top;\n",
       "    }\n",
       "\n",
       "    .dataframe thead th {\n",
       "        text-align: right;\n",
       "    }\n",
       "</style>\n",
       "<table border=\"1\" class=\"dataframe\">\n",
       "  <thead>\n",
       "    <tr style=\"text-align: right;\">\n",
       "      <th></th>\n",
       "      <th>Name</th>\n",
       "      <th>Age</th>\n",
       "      <th>Gender</th>\n",
       "    </tr>\n",
       "  </thead>\n",
       "  <tbody>\n",
       "    <tr>\n",
       "      <th>0</th>\n",
       "      <td>Alice</td>\n",
       "      <td>25</td>\n",
       "      <td>Female</td>\n",
       "    </tr>\n",
       "    <tr>\n",
       "      <th>1</th>\n",
       "      <td>Bob</td>\n",
       "      <td>30</td>\n",
       "      <td>Male</td>\n",
       "    </tr>\n",
       "    <tr>\n",
       "      <th>2</th>\n",
       "      <td>Claire</td>\n",
       "      <td>27</td>\n",
       "      <td>Femaile</td>\n",
       "    </tr>\n",
       "  </tbody>\n",
       "</table>\n",
       "</div>"
      ],
      "text/plain": [
       "     Name  Age   Gender\n",
       "0   Alice   25   Female\n",
       "1     Bob   30     Male\n",
       "2  Claire   27  Femaile"
      ]
     },
     "execution_count": 25,
     "metadata": {},
     "output_type": "execute_result"
    }
   ],
   "source": [
    "result3"
   ]
  },
  {
   "cell_type": "markdown",
   "id": "567b0578-a767-4597-ad64-7999a4fdbd5b",
   "metadata": {},
   "source": [
    "Q4. What is ‘DataFrame’ in pandas and how is it different from pandas.series? Explain with an example."
   ]
  },
  {
   "cell_type": "markdown",
   "id": "55db4613-cab9-4b40-869d-1ce811a9afb3",
   "metadata": {},
   "source": [
    "DataFrame is a two-dimensional size mutable, potentially heterogeneous tabular data structure with labeled axes(rows and columns). Here data is aligned in a tabular fashion in rows and columns like in excel or SQL. Each column can contain different-different types of data types like string(object), int ,etc\n",
    "\n",
    "Series is one dimensional labeled array in which one one paticular data type data holds.\n",
    "Means that it is homogeneous.It is similar to one column in dataframe."
   ]
  },
  {
   "cell_type": "code",
   "execution_count": 44,
   "id": "05e84484-a3ef-4c0c-b897-0c97b90a14b9",
   "metadata": {},
   "outputs": [],
   "source": [
    "data = {\"Batch\": 'Datascience masters',\n",
    "        \"Faculty\": [\"Sudh sir\",\"Krish sir\"],\n",
    "        \"Timing\":8.00\n",
    "        }"
   ]
  },
  {
   "cell_type": "code",
   "execution_count": 45,
   "id": "4feab30e-a445-43a8-8d17-55e54c471294",
   "metadata": {},
   "outputs": [
    {
     "data": {
      "text/html": [
       "<div>\n",
       "<style scoped>\n",
       "    .dataframe tbody tr th:only-of-type {\n",
       "        vertical-align: middle;\n",
       "    }\n",
       "\n",
       "    .dataframe tbody tr th {\n",
       "        vertical-align: top;\n",
       "    }\n",
       "\n",
       "    .dataframe thead th {\n",
       "        text-align: right;\n",
       "    }\n",
       "</style>\n",
       "<table border=\"1\" class=\"dataframe\">\n",
       "  <thead>\n",
       "    <tr style=\"text-align: right;\">\n",
       "      <th></th>\n",
       "      <th>Batch</th>\n",
       "      <th>Faculty</th>\n",
       "      <th>Timing</th>\n",
       "    </tr>\n",
       "  </thead>\n",
       "  <tbody>\n",
       "    <tr>\n",
       "      <th>0</th>\n",
       "      <td>Datascience masters</td>\n",
       "      <td>Sudh sir</td>\n",
       "      <td>8.0</td>\n",
       "    </tr>\n",
       "    <tr>\n",
       "      <th>1</th>\n",
       "      <td>Datascience masters</td>\n",
       "      <td>Krish sir</td>\n",
       "      <td>8.0</td>\n",
       "    </tr>\n",
       "  </tbody>\n",
       "</table>\n",
       "</div>"
      ],
      "text/plain": [
       "                 Batch    Faculty  Timing\n",
       "0  Datascience masters   Sudh sir     8.0\n",
       "1  Datascience masters  Krish sir     8.0"
      ]
     },
     "execution_count": 45,
     "metadata": {},
     "output_type": "execute_result"
    }
   ],
   "source": [
    "dataframe = pd.DataFrame(data)\n",
    "dataframe"
   ]
  },
  {
   "cell_type": "code",
   "execution_count": 47,
   "id": "dcbfe550-0819-4bbd-aa40-02611b5408a3",
   "metadata": {},
   "outputs": [
    {
     "data": {
      "text/plain": [
       "pandas.core.frame.DataFrame"
      ]
     },
     "execution_count": 47,
     "metadata": {},
     "output_type": "execute_result"
    }
   ],
   "source": [
    "type(dataframe)"
   ]
  },
  {
   "cell_type": "code",
   "execution_count": 46,
   "id": "d4a749f0-3f8b-4d46-ad3c-0f0e6984922e",
   "metadata": {},
   "outputs": [
    {
     "data": {
      "text/plain": [
       "Batch        Datascience masters\n",
       "Faculty    [Sudh sir, Krish sir]\n",
       "Timing                       8.0\n",
       "dtype: object"
      ]
     },
     "execution_count": 46,
     "metadata": {},
     "output_type": "execute_result"
    }
   ],
   "source": [
    "series = pd.Series(data)\n",
    "series"
   ]
  },
  {
   "cell_type": "code",
   "execution_count": 48,
   "id": "25fc87dc-d949-4210-8903-d0c563e599b9",
   "metadata": {},
   "outputs": [
    {
     "data": {
      "text/plain": [
       "pandas.core.series.Series"
      ]
     },
     "execution_count": 48,
     "metadata": {},
     "output_type": "execute_result"
    }
   ],
   "source": [
    "type(series)"
   ]
  },
  {
   "cell_type": "markdown",
   "id": "97610550-77b7-449d-b7f9-1629945463b0",
   "metadata": {},
   "source": [
    "Q5. What are some common functions you can use to manipulate data in a Pandas DataFrame? Can\n",
    "you give an example of when you might use one of these functions?"
   ]
  },
  {
   "cell_type": "code",
   "execution_count": 50,
   "id": "3faec6c1-2925-448e-a621-8ab2d7aedf8f",
   "metadata": {},
   "outputs": [],
   "source": [
    "data = {\n",
    "        'Name': ['Alice','Bob','Claire'],\n",
    "        'Age' : [25,30,27],\n",
    "        'Gender' : ['Female','Male','Femaile'],\n",
    "        'Hobby' : [\"Basketball\",\"Cricket\",\"Volleyball\"]}"
   ]
  },
  {
   "cell_type": "code",
   "execution_count": 51,
   "id": "4303365d-2bd3-4192-b8fb-ad65715cafd8",
   "metadata": {},
   "outputs": [],
   "source": [
    "df = pd.DataFrame(data)"
   ]
  },
  {
   "cell_type": "code",
   "execution_count": 52,
   "id": "6a2409bd-d4c6-4b1b-9ca9-85beb5bbe94e",
   "metadata": {},
   "outputs": [
    {
     "data": {
      "text/html": [
       "<div>\n",
       "<style scoped>\n",
       "    .dataframe tbody tr th:only-of-type {\n",
       "        vertical-align: middle;\n",
       "    }\n",
       "\n",
       "    .dataframe tbody tr th {\n",
       "        vertical-align: top;\n",
       "    }\n",
       "\n",
       "    .dataframe thead th {\n",
       "        text-align: right;\n",
       "    }\n",
       "</style>\n",
       "<table border=\"1\" class=\"dataframe\">\n",
       "  <thead>\n",
       "    <tr style=\"text-align: right;\">\n",
       "      <th></th>\n",
       "      <th>Name</th>\n",
       "      <th>Age</th>\n",
       "      <th>Gender</th>\n",
       "      <th>Hobby</th>\n",
       "    </tr>\n",
       "  </thead>\n",
       "  <tbody>\n",
       "    <tr>\n",
       "      <th>0</th>\n",
       "      <td>Alice</td>\n",
       "      <td>25</td>\n",
       "      <td>Female</td>\n",
       "      <td>Basketball</td>\n",
       "    </tr>\n",
       "    <tr>\n",
       "      <th>1</th>\n",
       "      <td>Bob</td>\n",
       "      <td>30</td>\n",
       "      <td>Male</td>\n",
       "      <td>Cricket</td>\n",
       "    </tr>\n",
       "    <tr>\n",
       "      <th>2</th>\n",
       "      <td>Claire</td>\n",
       "      <td>27</td>\n",
       "      <td>Femaile</td>\n",
       "      <td>Volleyball</td>\n",
       "    </tr>\n",
       "  </tbody>\n",
       "</table>\n",
       "</div>"
      ],
      "text/plain": [
       "     Name  Age   Gender       Hobby\n",
       "0   Alice   25   Female  Basketball\n",
       "1     Bob   30     Male     Cricket\n",
       "2  Claire   27  Femaile  Volleyball"
      ]
     },
     "execution_count": 52,
     "metadata": {},
     "output_type": "execute_result"
    }
   ],
   "source": [
    "df"
   ]
  },
  {
   "cell_type": "markdown",
   "id": "b40ff659-59c2-49db-83f6-ce1a865a7905",
   "metadata": {},
   "source": [
    "Common functions like:\n",
    "1. df.columns -- it shows the column names in dataframe\n",
    "2. df.dtypes -- it shows the data type of a particular columns\n",
    "3. df.head() -- it shows the first five records in a dataset\n",
    "4. df.tail() -- it shows the last five record in a dataset\n",
    "5. describe() -- provide summary of records in statiscal way\n"
   ]
  },
  {
   "cell_type": "code",
   "execution_count": 54,
   "id": "ce352735-aff9-4e3e-969b-86cbcd10d46b",
   "metadata": {},
   "outputs": [
    {
     "data": {
      "text/html": [
       "<div>\n",
       "<style scoped>\n",
       "    .dataframe tbody tr th:only-of-type {\n",
       "        vertical-align: middle;\n",
       "    }\n",
       "\n",
       "    .dataframe tbody tr th {\n",
       "        vertical-align: top;\n",
       "    }\n",
       "\n",
       "    .dataframe thead th {\n",
       "        text-align: right;\n",
       "    }\n",
       "</style>\n",
       "<table border=\"1\" class=\"dataframe\">\n",
       "  <thead>\n",
       "    <tr style=\"text-align: right;\">\n",
       "      <th></th>\n",
       "      <th>Name</th>\n",
       "      <th>Age</th>\n",
       "      <th>Gender</th>\n",
       "      <th>Hobby</th>\n",
       "    </tr>\n",
       "  </thead>\n",
       "  <tbody>\n",
       "    <tr>\n",
       "      <th>0</th>\n",
       "      <td>Alice</td>\n",
       "      <td>25</td>\n",
       "      <td>Female</td>\n",
       "      <td>Basketball</td>\n",
       "    </tr>\n",
       "    <tr>\n",
       "      <th>1</th>\n",
       "      <td>Bob</td>\n",
       "      <td>30</td>\n",
       "      <td>Male</td>\n",
       "      <td>Cricket</td>\n",
       "    </tr>\n",
       "  </tbody>\n",
       "</table>\n",
       "</div>"
      ],
      "text/plain": [
       "    Name  Age  Gender       Hobby\n",
       "0  Alice   25  Female  Basketball\n",
       "1    Bob   30    Male     Cricket"
      ]
     },
     "execution_count": 54,
     "metadata": {},
     "output_type": "execute_result"
    }
   ],
   "source": [
    "df.head(2)"
   ]
  },
  {
   "cell_type": "code",
   "execution_count": 55,
   "id": "02ae22b9-5bc1-4742-bb7c-5cb7ff71c7dc",
   "metadata": {},
   "outputs": [
    {
     "data": {
      "text/plain": [
       "Name      object\n",
       "Age        int64\n",
       "Gender    object\n",
       "Hobby     object\n",
       "dtype: object"
      ]
     },
     "execution_count": 55,
     "metadata": {},
     "output_type": "execute_result"
    }
   ],
   "source": [
    "df.dtypes"
   ]
  },
  {
   "cell_type": "markdown",
   "id": "f2e20991-6525-4d83-8256-3cf1dc183ab3",
   "metadata": {},
   "source": [
    "Q6. Which of the following is mutable in nature Series, DataFrame, Panel?"
   ]
  },
  {
   "cell_type": "markdown",
   "id": "10011f02-4ff9-415f-a0f1-554135475f31",
   "metadata": {},
   "source": [
    "1. Series -- \n",
    "Size of the series is immutable but values of data is mutable\n",
    "\n",
    "2. Dataframe -- \n",
    "Here both data and size if dataframe are mutable\n",
    "\n",
    "3. Panel -- \n",
    "Panel is a 3D data stucture with heterogeneous data and Here Size and Data are both mutable"
   ]
  },
  {
   "cell_type": "markdown",
   "id": "281c2122-1260-43e4-8666-d1342da75777",
   "metadata": {},
   "source": [
    "Q7. Create a DataFrame using multiple Series. Explain with an example."
   ]
  },
  {
   "cell_type": "code",
   "execution_count": 56,
   "id": "d40bb5dc-0d8e-47a2-acf0-026e3fe92efa",
   "metadata": {},
   "outputs": [],
   "source": [
    "name = ['Prajwal','Dhananjay','Nimish']\n",
    "age = [22,22,24]\n",
    "hobby = ['Cricket','Kabaddi','Football']"
   ]
  },
  {
   "cell_type": "code",
   "execution_count": 57,
   "id": "e92f420e-76aa-4cf7-9d62-82f6e073b56a",
   "metadata": {},
   "outputs": [],
   "source": [
    "ser1 = pd.Series(name)\n",
    "ser2 = pd.Series(age)\n",
    "ser3 = pd.Series(hobby)"
   ]
  },
  {
   "cell_type": "code",
   "execution_count": 64,
   "id": "27fd82c3-6150-4f0f-b983-a834f646b7aa",
   "metadata": {},
   "outputs": [],
   "source": [
    "c = pd.concat([ser1,ser2,ser3],axis = 1)"
   ]
  },
  {
   "cell_type": "code",
   "execution_count": 65,
   "id": "1dc01d81-2aa9-4ab9-9a19-4361fe90399f",
   "metadata": {},
   "outputs": [],
   "source": [
    "df = pd.DataFrame(c)"
   ]
  },
  {
   "cell_type": "code",
   "execution_count": 67,
   "id": "8169025f-9f21-462c-9ddc-ad2535a952de",
   "metadata": {},
   "outputs": [
    {
     "data": {
      "text/html": [
       "<div>\n",
       "<style scoped>\n",
       "    .dataframe tbody tr th:only-of-type {\n",
       "        vertical-align: middle;\n",
       "    }\n",
       "\n",
       "    .dataframe tbody tr th {\n",
       "        vertical-align: top;\n",
       "    }\n",
       "\n",
       "    .dataframe thead th {\n",
       "        text-align: right;\n",
       "    }\n",
       "</style>\n",
       "<table border=\"1\" class=\"dataframe\">\n",
       "  <thead>\n",
       "    <tr style=\"text-align: right;\">\n",
       "      <th></th>\n",
       "      <th>0</th>\n",
       "      <th>1</th>\n",
       "      <th>2</th>\n",
       "    </tr>\n",
       "  </thead>\n",
       "  <tbody>\n",
       "    <tr>\n",
       "      <th>0</th>\n",
       "      <td>Prajwal</td>\n",
       "      <td>22</td>\n",
       "      <td>Cricket</td>\n",
       "    </tr>\n",
       "    <tr>\n",
       "      <th>1</th>\n",
       "      <td>Dhananjay</td>\n",
       "      <td>22</td>\n",
       "      <td>Kabaddi</td>\n",
       "    </tr>\n",
       "    <tr>\n",
       "      <th>2</th>\n",
       "      <td>Nimish</td>\n",
       "      <td>24</td>\n",
       "      <td>Football</td>\n",
       "    </tr>\n",
       "  </tbody>\n",
       "</table>\n",
       "</div>"
      ],
      "text/plain": [
       "           0   1         2\n",
       "0    Prajwal  22   Cricket\n",
       "1  Dhananjay  22   Kabaddi\n",
       "2     Nimish  24  Football"
      ]
     },
     "execution_count": 67,
     "metadata": {},
     "output_type": "execute_result"
    }
   ],
   "source": [
    "df"
   ]
  },
  {
   "cell_type": "code",
   "execution_count": null,
   "id": "9c7e9e48-26e9-4766-8699-defece21d40e",
   "metadata": {},
   "outputs": [],
   "source": []
  }
 ],
 "metadata": {
  "kernelspec": {
   "display_name": "Python 3 (ipykernel)",
   "language": "python",
   "name": "python3"
  },
  "language_info": {
   "codemirror_mode": {
    "name": "ipython",
    "version": 3
   },
   "file_extension": ".py",
   "mimetype": "text/x-python",
   "name": "python",
   "nbconvert_exporter": "python",
   "pygments_lexer": "ipython3",
   "version": "3.10.6"
  }
 },
 "nbformat": 4,
 "nbformat_minor": 5
}
