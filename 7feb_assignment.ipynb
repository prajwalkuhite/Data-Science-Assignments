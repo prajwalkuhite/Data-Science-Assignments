{
 "cells": [
  {
   "cell_type": "markdown",
   "id": "c453e33d-12fd-4e80-aa28-05e46e101bc5",
   "metadata": {},
   "source": [
    "Q1"
   ]
  },
  {
   "cell_type": "code",
   "execution_count": 1,
   "id": "0e2a8653-2a8c-4d37-b600-ff8ce4cd023e",
   "metadata": {},
   "outputs": [],
   "source": [
    "def check():\n",
    "    \n",
    "    password =input(\"Enter the password\")\n",
    "    pswd1 = 0\n",
    "    pswd2= 0\n",
    "    pswd3=0\n",
    "    pswd4=0\n",
    "    pswd5=0\n",
    "    l1 =[]\n",
    "    l2 =[]\n",
    "    l3=[]\n",
    "    l4=[]\n",
    "    \n",
    "    for i in password:\n",
    "        \n",
    "        if i.isupper():\n",
    "            l1.append(i)\n",
    "            if len(l1) >= 2:\n",
    "                pswd1 =1\n",
    "\n",
    "        if i.islower():\n",
    "            l2.append(i)\n",
    "            if len(l2)>=2:\n",
    "                pswd2= 1\n",
    "                \n",
    "        if i == '@' or i=='#' or i=='$':\n",
    "            l3.append(i)\n",
    "            if len(l3) >= 3:\n",
    "                pswd3 = 1\n",
    "                \n",
    "        if len(password)>=10:\n",
    "            pswd4 = 1\n",
    "            \n",
    "        if i == '0' or i=='1' or i== '2' or i=='3' or i== '4' or i== '5' or i=='6' or i=='7' or i=='8' or i=='9':\n",
    "            l4.append(i)\n",
    "            if len(l4) >= 1:\n",
    "                pswd5 =1\n",
    "        \n",
    "        \n",
    "    if pswd1 == 1 and pswd2==1 and pswd3 == 1 and pswd4 == 1 and pswd5 == 1:\n",
    "        print(\"Valid password\")\n",
    "    else:\n",
    "        print(\"Invalid password\")\n"
   ]
  },
  {
   "cell_type": "code",
   "execution_count": 3,
   "id": "4f68b13a-deba-4781-a65e-7b0e6d2b8351",
   "metadata": {},
   "outputs": [
    {
     "name": "stdin",
     "output_type": "stream",
     "text": [
      "Enter the password Prajwal@PW#Datascience$123\n"
     ]
    },
    {
     "name": "stdout",
     "output_type": "stream",
     "text": [
      "Valid password\n"
     ]
    }
   ],
   "source": [
    "a = check()"
   ]
  },
  {
   "cell_type": "markdown",
   "id": "4ab8a6bc-0c9e-4d9d-af44-eb13db5af340",
   "metadata": {},
   "source": [
    "Q2"
   ]
  },
  {
   "cell_type": "markdown",
   "id": "fe9226f5-efc0-47bb-a240-cea430d85c24",
   "metadata": {},
   "source": [
    "check if the string starts with particular letter."
   ]
  },
  {
   "cell_type": "code",
   "execution_count": 3,
   "id": "5e1e1a07-1303-427d-bd22-cca573562c7b",
   "metadata": {},
   "outputs": [],
   "source": [
    "s = \"pwskills\"\n",
    "a = lambda s : True if s.startswith(\"p\") else False"
   ]
  },
  {
   "cell_type": "code",
   "execution_count": 6,
   "id": "4d946cd6-188d-4e0b-a2e3-cbaa2d24e3c3",
   "metadata": {},
   "outputs": [
    {
     "data": {
      "text/plain": [
       "True"
      ]
     },
     "execution_count": 6,
     "metadata": {},
     "output_type": "execute_result"
    }
   ],
   "source": [
    "a(s)"
   ]
  },
  {
   "cell_type": "markdown",
   "id": "d67e7253-9b02-4048-8dc7-6540426a478e",
   "metadata": {},
   "source": [
    "check if the string is numeric"
   ]
  },
  {
   "cell_type": "code",
   "execution_count": 12,
   "id": "0c5c65e5-68e7-4c70-9a4a-356045d60d2e",
   "metadata": {},
   "outputs": [],
   "source": [
    "s1 = \"prajwal_pwskills_1\"\n",
    "b = lambda s1 : True if s1.isnumeric() else False"
   ]
  },
  {
   "cell_type": "code",
   "execution_count": 13,
   "id": "e4e095ee-7e23-4d81-a251-4a180387dc52",
   "metadata": {},
   "outputs": [
    {
     "data": {
      "text/plain": [
       "False"
      ]
     },
     "execution_count": 13,
     "metadata": {},
     "output_type": "execute_result"
    }
   ],
   "source": [
    "b(s1)"
   ]
  },
  {
   "cell_type": "markdown",
   "id": "4df83d1e-db2e-4881-a76f-2ec3e47ec6d4",
   "metadata": {},
   "source": [
    "sort a list of tuples"
   ]
  },
  {
   "cell_type": "code",
   "execution_count": 21,
   "id": "9fd1c00f-d491-4750-9390-3f4452d36ef4",
   "metadata": {},
   "outputs": [],
   "source": [
    "lst1 = [(\"mango\",99),(\"orange\",80),(\"grapes\",1000)]"
   ]
  },
  {
   "cell_type": "code",
   "execution_count": 30,
   "id": "394a81a8-8585-4470-80aa-37f88b157e16",
   "metadata": {},
   "outputs": [],
   "source": [
    "c = lambda x : x.sort(key=lambda item:item[0])\n",
    "c(lst1)"
   ]
  },
  {
   "cell_type": "code",
   "execution_count": 31,
   "id": "b4c452aa-25bf-4950-bc34-d261d6216e34",
   "metadata": {},
   "outputs": [
    {
     "data": {
      "text/plain": [
       "[('grapes', 1000), ('mango', 99), ('orange', 80)]"
      ]
     },
     "execution_count": 31,
     "metadata": {},
     "output_type": "execute_result"
    }
   ],
   "source": [
    "lst1"
   ]
  },
  {
   "cell_type": "markdown",
   "id": "7bdbed12-0abc-4887-b2af-9b29568da49d",
   "metadata": {},
   "source": [
    "Find the square of numbers from 1 to 10"
   ]
  },
  {
   "cell_type": "code",
   "execution_count": 17,
   "id": "1817f6ba-be83-4649-b674-923a942db6f4",
   "metadata": {},
   "outputs": [
    {
     "data": {
      "text/plain": [
       "[1, 4, 9, 16, 25, 36, 49, 64, 81, 100]"
      ]
     },
     "execution_count": 17,
     "metadata": {},
     "output_type": "execute_result"
    }
   ],
   "source": [
    "num = range(1,11)\n",
    "list(map(lambda x : x**2 , num))"
   ]
  },
  {
   "cell_type": "markdown",
   "id": "177fb6eb-a343-40c2-b658-c2c66470944c",
   "metadata": {},
   "source": [
    "Find the cube root of numbers from 1 to 10"
   ]
  },
  {
   "cell_type": "code",
   "execution_count": 18,
   "id": "1bedc620-f5e6-42fa-ae53-2edc471d4353",
   "metadata": {},
   "outputs": [
    {
     "data": {
      "text/plain": [
       "[1, 8, 27, 64, 125, 216, 343, 512, 729, 1000]"
      ]
     },
     "execution_count": 18,
     "metadata": {},
     "output_type": "execute_result"
    }
   ],
   "source": [
    "num1 = range(1,11)\n",
    "list(map(lambda x : x**3 ,num1))"
   ]
  },
  {
   "cell_type": "markdown",
   "id": "98739d35-5dc8-4585-83dd-9f36590c621a",
   "metadata": {},
   "source": [
    "check if a given number is even"
   ]
  },
  {
   "cell_type": "code",
   "execution_count": 20,
   "id": "720ac4ca-5dcf-412c-bda9-1f6ed8809e89",
   "metadata": {},
   "outputs": [],
   "source": [
    "number = 46\n",
    "c = lambda x : True if x%2 ==0 else False"
   ]
  },
  {
   "cell_type": "code",
   "execution_count": 21,
   "id": "0d57f9fa-0d5e-4c4e-b06f-e5e020e62a83",
   "metadata": {},
   "outputs": [
    {
     "data": {
      "text/plain": [
       "True"
      ]
     },
     "execution_count": 21,
     "metadata": {},
     "output_type": "execute_result"
    }
   ],
   "source": [
    "c(number)"
   ]
  },
  {
   "cell_type": "markdown",
   "id": "9b7214ae-ae48-4207-8dc0-f4623b40c5ba",
   "metadata": {},
   "source": [
    "Filter odd number from the given list"
   ]
  },
  {
   "cell_type": "code",
   "execution_count": 22,
   "id": "5b1cfdb3-47ab-4f8d-83ae-701a71eaa7e7",
   "metadata": {},
   "outputs": [
    {
     "data": {
      "text/plain": [
       "[1, 3, 5, 7, 9]"
      ]
     },
     "execution_count": 22,
     "metadata": {},
     "output_type": "execute_result"
    }
   ],
   "source": [
    "lst2 = [1,2,3,4,5,6,7,8,9,10]\n",
    "list(filter(lambda x : x%2==1 , lst2))"
   ]
  },
  {
   "cell_type": "markdown",
   "id": "e4bb5e43-3612-41ee-bfe8-860bc89c4c1f",
   "metadata": {},
   "source": [
    "sort a list of integers into positive and negative int lists"
   ]
  },
  {
   "cell_type": "code",
   "execution_count": 35,
   "id": "7d146039-ee49-49f2-9249-c752668c5398",
   "metadata": {},
   "outputs": [],
   "source": [
    "lst3 = [1,2,3,4,5,6,-1,-2,-3,-4,-5,0]"
   ]
  },
  {
   "cell_type": "code",
   "execution_count": 31,
   "id": "bd1e63be-cb88-45db-8f22-34421f4ebf37",
   "metadata": {},
   "outputs": [],
   "source": [
    "lst_pst = [i for i in lst3 if i>0 ]"
   ]
  },
  {
   "cell_type": "code",
   "execution_count": 32,
   "id": "60a15992-b2f6-4418-a3e4-ee38a4bc4622",
   "metadata": {},
   "outputs": [
    {
     "data": {
      "text/plain": [
       "[1, 2, 3, 4, 5, 6]"
      ]
     },
     "execution_count": 32,
     "metadata": {},
     "output_type": "execute_result"
    }
   ],
   "source": [
    "lst_pst"
   ]
  },
  {
   "cell_type": "code",
   "execution_count": 33,
   "id": "a927925e-4143-4097-9397-ae62d79b465c",
   "metadata": {},
   "outputs": [],
   "source": [
    "lst_neg = [i for i in lst3 if i<0]"
   ]
  },
  {
   "cell_type": "code",
   "execution_count": 34,
   "id": "bd2c42bf-bbbd-4bae-8ed0-af7b3d533f42",
   "metadata": {},
   "outputs": [
    {
     "data": {
      "text/plain": [
       "[-1, -2, -3, -4, -5]"
      ]
     },
     "execution_count": 34,
     "metadata": {},
     "output_type": "execute_result"
    }
   ],
   "source": [
    "lst_neg"
   ]
  },
  {
   "cell_type": "code",
   "execution_count": null,
   "id": "93879b66-9637-4d8b-8a00-464b4b2d71bf",
   "metadata": {},
   "outputs": [],
   "source": []
  }
 ],
 "metadata": {
  "kernelspec": {
   "display_name": "Python 3 (ipykernel)",
   "language": "python",
   "name": "python3"
  },
  "language_info": {
   "codemirror_mode": {
    "name": "ipython",
    "version": 3
   },
   "file_extension": ".py",
   "mimetype": "text/x-python",
   "name": "python",
   "nbconvert_exporter": "python",
   "pygments_lexer": "ipython3",
   "version": "3.10.6"
  }
 },
 "nbformat": 4,
 "nbformat_minor": 5
}
