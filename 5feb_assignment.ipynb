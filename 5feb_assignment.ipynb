{
 "cells": [
  {
   "cell_type": "markdown",
   "id": "6a36e32b-2b4f-41e3-8977-f1442088c931",
   "metadata": {},
   "source": [
    "Q1"
   ]
  },
  {
   "cell_type": "markdown",
   "id": "281c982b-9d98-4ff5-9825-9c2b950a2f38",
   "metadata": {},
   "source": [
    "Classes in oops are just a blueprint or a classification of objects.\n",
    "and Objects are the instantiation od class. \n",
    "objects are the real world entity or physical entity or we also say that entity having state and behaviour.\n",
    "Example -- suppose if we want to buy a car then we say that it is a 'class'\n",
    "but which car we want to buy is according to its functionality , model , features, etc that we called as 'object' means it is a real world entity.\n"
   ]
  },
  {
   "cell_type": "code",
   "execution_count": 8,
   "id": "4a4384e0-9a3f-4cf5-9fa5-ba1529d17483",
   "metadata": {},
   "outputs": [],
   "source": [
    "class Car:     # class 'Car'\n",
    "    \n",
    "    def MG_hectar(self):\n",
    "        pass\n",
    "    def Tata_Nexon(self):\n",
    "        pass\n",
    "    "
   ]
  },
  {
   "cell_type": "code",
   "execution_count": 9,
   "id": "3cfbbcc5-e091-4cbd-a35a-edb6a01ad3c1",
   "metadata": {},
   "outputs": [],
   "source": [
    "c1 = Car()   # C1 is the object of a class 'Car'"
   ]
  },
  {
   "cell_type": "code",
   "execution_count": 7,
   "id": "79c24607-3f00-406c-8197-010f18288747",
   "metadata": {},
   "outputs": [],
   "source": [
    "c1.Tata_Nexon()  # The object model we select"
   ]
  },
  {
   "cell_type": "markdown",
   "id": "9419100c-f75c-4e35-9f70-bf2528d934ad",
   "metadata": {},
   "source": [
    "Q2"
   ]
  },
  {
   "cell_type": "markdown",
   "id": "00a18c7d-7cd1-4a3c-9804-67e09f6393d9",
   "metadata": {},
   "source": [
    "Four pillars in oops are :\n",
    "1  Inheritance\n",
    "2  Encapsulation\n",
    "3  Polymorphism\n",
    "4  Abstraction"
   ]
  },
  {
   "cell_type": "markdown",
   "id": "782d7a8c-441e-4af4-9c8c-dd797be734c9",
   "metadata": {},
   "source": [
    "Q3"
   ]
  },
  {
   "cell_type": "markdown",
   "id": "b825b2a4-7fa7-45fa-907a-d8f07ff31052",
   "metadata": {},
   "source": [
    "__init__ is a special method used in oops called as constructor method.\n",
    "constructor is used to initialise the object and object properties.\n"
   ]
  },
  {
   "cell_type": "code",
   "execution_count": 11,
   "id": "ad2cbddc-91a7-4c65-9ab6-79fd2fa6d02a",
   "metadata": {},
   "outputs": [],
   "source": [
    "class Student:\n",
    "    \n",
    "    def __init__(self,name):\n",
    "        self.name = name"
   ]
  },
  {
   "cell_type": "code",
   "execution_count": 13,
   "id": "d2fb65d4-45c5-4ee9-a3d2-06abf0291927",
   "metadata": {},
   "outputs": [],
   "source": [
    "s1 = Student(\"Prajwal\")"
   ]
  },
  {
   "cell_type": "code",
   "execution_count": 17,
   "id": "d99b40bc-ba65-427f-afaa-1465ac8e21d5",
   "metadata": {},
   "outputs": [
    {
     "data": {
      "text/plain": [
       "'Prajwal'"
      ]
     },
     "execution_count": 17,
     "metadata": {},
     "output_type": "execute_result"
    }
   ],
   "source": [
    "s1.name"
   ]
  },
  {
   "cell_type": "markdown",
   "id": "88ec3c53-37ba-4c72-9df2-56c02f395a11",
   "metadata": {},
   "source": [
    "Q4"
   ]
  },
  {
   "cell_type": "markdown",
   "id": "10e8c7c0-059f-421a-97cb-1b87fe646684",
   "metadata": {},
   "source": [
    "'self' is just a variable which is used in every defined function inside a class.\n",
    "self is used because it contain the memory address of a current object.\n",
    "suppose when we create a object the memory address of that object goes inside a 'self' parameter in a function.\n",
    "which means that now constuctor or function can initialise for that particular object.\n"
   ]
  },
  {
   "cell_type": "markdown",
   "id": "28efa759-6e54-40d4-ab7a-91d5f2344a08",
   "metadata": {},
   "source": [
    "Q5"
   ]
  },
  {
   "cell_type": "markdown",
   "id": "7c49c1c4-37d6-44c5-b905-4cba1c40cdae",
   "metadata": {},
   "source": [
    "Inheritance in oops\n",
    "    Deriving a new class from an existing class so that new class inherits all\n",
    "    functions and attributes of existing class is called inheritance.\n",
    "Types of Inheritance:\n",
    "1- Single Inheritance\n",
    "2- Multi level Inheritance:\n",
    "3- Heirarchical Inheritance\n",
    "4- Multiple Inheritance\n",
    "5- Hybrid Inheritance\n",
    "        "
   ]
  }
 ],
 "metadata": {
  "kernelspec": {
   "display_name": "Python 3 (ipykernel)",
   "language": "python",
   "name": "python3"
  },
  "language_info": {
   "codemirror_mode": {
    "name": "ipython",
    "version": 3
   },
   "file_extension": ".py",
   "mimetype": "text/x-python",
   "name": "python",
   "nbconvert_exporter": "python",
   "pygments_lexer": "ipython3",
   "version": "3.10.6"
  }
 },
 "nbformat": 4,
 "nbformat_minor": 5
}
